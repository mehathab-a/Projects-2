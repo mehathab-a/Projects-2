{
 "cells": [
  {
   "cell_type": "code",
   "execution_count": 1,
   "id": "5546fb87",
   "metadata": {},
   "outputs": [
    {
     "name": "stderr",
     "output_type": "stream",
     "text": [
      "2023-01-26 02:26:54.347205: I tensorflow/core/platform/cpu_feature_guard.cc:193] This TensorFlow binary is optimized with oneAPI Deep Neural Network Library (oneDNN) to use the following CPU instructions in performance-critical operations:  AVX2 FMA\n",
      "To enable them in other operations, rebuild TensorFlow with the appropriate compiler flags.\n",
      "2023-01-26 02:26:54.860632: W tensorflow/compiler/xla/stream_executor/platform/default/dso_loader.cc:64] Could not load dynamic library 'libnvinfer.so.7'; dlerror: libnvinfer.so.7: cannot open shared object file: No such file or directory; LD_LIBRARY_PATH: /home/mehathab/anaconda3/envs/corn_dev/lib/python3.8/site-packages/cv2/../../lib64::/home/mehathab/anaconda3/envs/corn_dev/lib/\n",
      "2023-01-26 02:26:54.860694: W tensorflow/compiler/xla/stream_executor/platform/default/dso_loader.cc:64] Could not load dynamic library 'libnvinfer_plugin.so.7'; dlerror: libnvinfer_plugin.so.7: cannot open shared object file: No such file or directory; LD_LIBRARY_PATH: /home/mehathab/anaconda3/envs/corn_dev/lib/python3.8/site-packages/cv2/../../lib64::/home/mehathab/anaconda3/envs/corn_dev/lib/\n",
      "2023-01-26 02:26:54.860700: W tensorflow/compiler/tf2tensorrt/utils/py_utils.cc:38] TF-TRT Warning: Cannot dlopen some TensorRT libraries. If you would like to use Nvidia GPU with TensorRT, please make sure the missing libraries mentioned above are installed properly.\n"
     ]
    }
   ],
   "source": [
    "import os\n",
    "import pandas as pd\n",
    "import numpy as np\n",
    "import matplotlib.pyplot as plt\n",
    "from skimage.transform import resize\n",
    "import cv2\n",
    "\n",
    "from keras.models import Model,load_model\n",
    "# from keras.applications.inception_resnet_v2 import preprocess_input\n",
    "from keras.applications.resnet_v2 import preprocess_input\n",
    "from sklearn.metrics import accuracy_score,classification_report,ConfusionMatrixDisplay,confusion_matrix"
   ]
  },
  {
   "cell_type": "code",
   "execution_count": 2,
   "id": "09eb7b7c",
   "metadata": {},
   "outputs": [],
   "source": [
    "test_dir = 'test/'\n",
    "image_names = os.listdir(test_dir)\n",
    "classes = ['Healthy', 'Sprayable', 'Non Sprayable' ]"
   ]
  },
  {
   "cell_type": "code",
   "execution_count": 3,
   "id": "a9cabff8",
   "metadata": {},
   "outputs": [],
   "source": [
    "# test_dict = {'image_path':[],\n",
    "#             'classification':[]}\n",
    "\n",
    "# for i,name in enumerate(image_names):\n",
    "#     name_split = name.split(\"_\")\n",
    "#     class_name = ''\n",
    "#     if name_split[0] == \"Non\":\n",
    "#         class_name = name_split[0]+\" \"+name_split[1]\n",
    "#     else:\n",
    "#         class_name = name_split[0]\n",
    "        \n",
    "#     test_dict['image_path'].append(test_dir+name)\n",
    "#     test_dict['classification'].append(classes.index(class_name))\n",
    "\n",
    "# test_dict = pd.DataFrame(test_dict)\n",
    "# test_dict.to_csv(\"test.csv\")"
   ]
  },
  {
   "cell_type": "code",
   "execution_count": 4,
   "id": "ecb65371",
   "metadata": {},
   "outputs": [],
   "source": [
    "test_csv = pd.read_csv('test.csv')"
   ]
  },
  {
   "cell_type": "code",
   "execution_count": 5,
   "id": "54cfcc92",
   "metadata": {},
   "outputs": [],
   "source": [
    "x_test = test_csv['image_path']\n",
    "y_test = test_csv['classification']"
   ]
  },
  {
   "cell_type": "code",
   "execution_count": 6,
   "id": "0adff5cb",
   "metadata": {},
   "outputs": [],
   "source": [
    "def contrast(img):\n",
    "    # Contrast Streching\n",
    "    img = img.astype('uint8')\n",
    "    original = img.copy()\n",
    "    xp = [0, 64, 128, 192, 255]\n",
    "    fp = [0, 16, 128, 240, 255]\n",
    "    x = np.arange(256)\n",
    "    table = np.interp(x, xp, fp).astype('uint8')\n",
    "    img = cv2.LUT(img, table)    \n",
    "    return preprocess_input(img)\n",
    "\n",
    "def colorspace(img,space):\n",
    "    image = img.astype('uint8')\n",
    "    if space =='HLS':\n",
    "        img_convert = cv2.cvtColor(image, cv2.COLOR_RGB2HLS)\n",
    "        img_convert = contrast(img_convert)\n",
    "    elif space =='RGB':\n",
    "        img_convert = image\n",
    "        img_convert = contrast(img_convert)\n",
    "    elif space =='BGR':\n",
    "        img_convert = cv2.cvtColor(image, cv2.COLOR_RGB2BGR)\n",
    "        img_convert = contrast(img_convert)\n",
    "    elif space =='LUV':\n",
    "        img_convert = cv2.cvtColor(image, cv2.COLOR_RGB2LUV)\n",
    "    elif space =='LAB':\n",
    "        img_convert = cv2.cvtColor(image, cv2.COLOR_RGB2LAB)\n",
    "        img_convert = contrast(img_convert)\n",
    "    elif space =='YCrCb':\n",
    "        img_convert = cv2.cvtColor(image, cv2.COLOR_RGB2YCrCb)\n",
    "    elif space =='HSV':\n",
    "        img_convert = cv2.cvtColor(image, cv2.COLOR_RGB2HSV)\n",
    "        img_convert = contrast(img_convert)\n",
    "        \n",
    "    return img_convert.astype('float32')"
   ]
  },
  {
   "cell_type": "code",
   "execution_count": 7,
   "id": "6853c5c3",
   "metadata": {},
   "outputs": [],
   "source": [
    "def resized(img,space):\n",
    "    image = colorspace(img,space)\n",
    "\n",
    "    img_resize = resize(image,(299,299,3))\n",
    "    return img_resize\n",
    "    "
   ]
  },
  {
   "cell_type": "code",
   "execution_count": 8,
   "id": "4e442405",
   "metadata": {},
   "outputs": [],
   "source": [
    "def model_predictor(img,space):\n",
    "    predict_list = []\n",
    "    predict_prob = []\n",
    "    \n",
    "    image = plt.imread(img)\n",
    "#     image_preprocessed = preprocess_input(image)\n",
    "    image_resized = resized(image,space)    \n",
    "    image_expand = np.expand_dims(image_resized,axis=0)\n",
    "    \n",
    "    predictions = model.predict(image_expand)\n",
    "    flatten_predictions = list(predictions.flatten())\n",
    "    predict_prob = flatten_predictions\n",
    "\n",
    "#     predict_prob = list(np.mean(predict_prob, axis=0))\n",
    "    print(\"Pred Prob:\",predict_prob)\n",
    "\n",
    "    sort_predictions = np.sort(np.array(predict_prob), axis=0)\n",
    "    sort_predictions = sort_predictions[::-1]\n",
    "#     print(sort_predictions)\n",
    "\n",
    "    main_predict = predict_prob.index(sort_predictions[0])\n",
    "    second_predict = predict_prob.index(sort_predictions[1])\n",
    "    third_predict = predict_prob.index(sort_predictions[2])\n",
    "\n",
    "    if sort_predictions[0]:\n",
    "        predict_list.append(main_predict)\n",
    "#         and (sort_predictions[0] * 10 < 9)\n",
    "    if sort_predictions[1] and (sort_predictions[0] * 10 < 9.5) and (sort_predictions[1] * 100 > 1):\n",
    "        predict_list.append(second_predict)\n",
    "    if (sort_predictions[1] - sort_predictions[2] > 0.01) and (sort_predictions[2] * 100 > 1):\n",
    "        predict_list.append(third_predict)\n",
    "\n",
    "    return [predict_list, predict_prob]"
   ]
  },
  {
   "cell_type": "code",
   "execution_count": 9,
   "id": "103b2f7e",
   "metadata": {},
   "outputs": [],
   "source": [
    "def predictor(image,space):\n",
    "        predict, pred_prob = model_predictor(image,space)\n",
    "        predicted_classes = [classes[i] for i in predict]\n",
    "        return [predicted_classes, pred_prob]"
   ]
  },
  {
   "cell_type": "markdown",
   "id": "24463757",
   "metadata": {},
   "source": [
    "<hr>"
   ]
  },
  {
   "cell_type": "markdown",
   "id": "446b879c",
   "metadata": {},
   "source": [
    "### RGB Space"
   ]
  },
  {
   "cell_type": "markdown",
   "id": "6e93bd37",
   "metadata": {},
   "source": [
    "#### Normal Weights"
   ]
  },
  {
   "cell_type": "code",
   "execution_count": 10,
   "id": "fd4b67e6",
   "metadata": {},
   "outputs": [
    {
     "name": "stderr",
     "output_type": "stream",
     "text": [
      "2023-01-24 19:47:36.085927: I tensorflow/compiler/xla/stream_executor/cuda/cuda_gpu_executor.cc:981] successful NUMA node read from SysFS had negative value (-1), but there must be at least one NUMA node, so returning NUMA node zero\n",
      "2023-01-24 19:47:36.089620: I tensorflow/compiler/xla/stream_executor/cuda/cuda_gpu_executor.cc:981] successful NUMA node read from SysFS had negative value (-1), but there must be at least one NUMA node, so returning NUMA node zero\n",
      "2023-01-24 19:47:36.090067: I tensorflow/compiler/xla/stream_executor/cuda/cuda_gpu_executor.cc:981] successful NUMA node read from SysFS had negative value (-1), but there must be at least one NUMA node, so returning NUMA node zero\n",
      "2023-01-24 19:47:36.090638: I tensorflow/core/platform/cpu_feature_guard.cc:193] This TensorFlow binary is optimized with oneAPI Deep Neural Network Library (oneDNN) to use the following CPU instructions in performance-critical operations:  AVX2 AVX_VNNI FMA\n",
      "To enable them in other operations, rebuild TensorFlow with the appropriate compiler flags.\n",
      "2023-01-24 19:47:36.091266: I tensorflow/compiler/xla/stream_executor/cuda/cuda_gpu_executor.cc:981] successful NUMA node read from SysFS had negative value (-1), but there must be at least one NUMA node, so returning NUMA node zero\n",
      "2023-01-24 19:47:36.091717: I tensorflow/compiler/xla/stream_executor/cuda/cuda_gpu_executor.cc:981] successful NUMA node read from SysFS had negative value (-1), but there must be at least one NUMA node, so returning NUMA node zero\n",
      "2023-01-24 19:47:36.092085: I tensorflow/compiler/xla/stream_executor/cuda/cuda_gpu_executor.cc:981] successful NUMA node read from SysFS had negative value (-1), but there must be at least one NUMA node, so returning NUMA node zero\n",
      "2023-01-24 19:47:36.402392: I tensorflow/compiler/xla/stream_executor/cuda/cuda_gpu_executor.cc:981] successful NUMA node read from SysFS had negative value (-1), but there must be at least one NUMA node, so returning NUMA node zero\n",
      "2023-01-24 19:47:36.402863: I tensorflow/compiler/xla/stream_executor/cuda/cuda_gpu_executor.cc:981] successful NUMA node read from SysFS had negative value (-1), but there must be at least one NUMA node, so returning NUMA node zero\n",
      "2023-01-24 19:47:36.403278: I tensorflow/compiler/xla/stream_executor/cuda/cuda_gpu_executor.cc:981] successful NUMA node read from SysFS had negative value (-1), but there must be at least one NUMA node, so returning NUMA node zero\n",
      "2023-01-24 19:47:36.403674: I tensorflow/core/common_runtime/gpu/gpu_device.cc:1613] Created device /job:localhost/replica:0/task:0/device:GPU:0 with 10013 MB memory:  -> device: 0, name: NVIDIA GeForce RTX 3060, pci bus id: 0000:01:00.0, compute capability: 8.6\n"
     ]
    }
   ],
   "source": [
    "model = load_model('models/IncRes_RGB_model1.hdf5')\n",
    "model.load_weights('weights/IncRes_RGB_model1.hdf5')"
   ]
  },
  {
   "cell_type": "code",
   "execution_count": 11,
   "id": "9a531261",
   "metadata": {
    "scrolled": true
   },
   "outputs": [
    {
     "name": "stderr",
     "output_type": "stream",
     "text": [
      "2023-01-24 19:47:41.849047: I tensorflow/compiler/xla/stream_executor/cuda/cuda_dnn.cc:428] Loaded cuDNN version 8100\n",
      "2023-01-24 19:47:42.268437: I tensorflow/tsl/platform/default/subprocess.cc:304] Start cannot spawn child process: No such file or directory\n",
      "2023-01-24 19:47:42.268870: I tensorflow/tsl/platform/default/subprocess.cc:304] Start cannot spawn child process: No such file or directory\n",
      "2023-01-24 19:47:42.268890: W tensorflow/compiler/xla/stream_executor/gpu/asm_compiler.cc:85] Couldn't get ptxas version string: INTERNAL: Couldn't invoke ptxas --version\n",
      "2023-01-24 19:47:42.269270: I tensorflow/tsl/platform/default/subprocess.cc:304] Start cannot spawn child process: No such file or directory\n",
      "2023-01-24 19:47:42.269330: W tensorflow/compiler/xla/stream_executor/gpu/redzone_allocator.cc:318] INTERNAL: Failed to launch ptxas\n",
      "Relying on driver to perform ptx compilation. \n",
      "Modify $PATH to customize ptxas location.\n",
      "This message will be only logged once.\n"
     ]
    },
    {
     "name": "stdout",
     "output_type": "stream",
     "text": [
      "1/1 [==============================] - 3s 3s/step\n"
     ]
    },
    {
     "name": "stderr",
     "output_type": "stream",
     "text": [
      "2023-01-24 19:47:43.424752: I tensorflow/compiler/xla/stream_executor/cuda/cuda_blas.cc:630] TensorFloat-32 will be used for the matrix multiplication. This will only be logged once.\n"
     ]
    },
    {
     "name": "stdout",
     "output_type": "stream",
     "text": [
      "Pred Prob: [0.99999976, 2.3671997e-07, 5.320094e-12]\n",
      "1/1 [==============================] - 0s 21ms/step\n",
      "Pred Prob: [0.0022622424, 8.975001e-05, 0.99764806]\n"
     ]
    },
    {
     "name": "stderr",
     "output_type": "stream",
     "text": [
      "/tmp/ipykernel_9329/1492241390.py:16: DeprecationWarning: The truth value of an empty array is ambiguous. Returning False, but in future this will result in an error. Use `array.size > 0` to check that an array is not empty.\n",
      "  elif y_pred2 == y_test[i]:\n",
      "/tmp/ipykernel_9329/1492241390.py:18: DeprecationWarning: The truth value of an empty array is ambiguous. Returning False, but in future this will result in an error. Use `array.size > 0` to check that an array is not empty.\n",
      "  elif y_pred3 == y_test[i]:\n"
     ]
    },
    {
     "name": "stdout",
     "output_type": "stream",
     "text": [
      "1/1 [==============================] - 0s 21ms/step\n",
      "Pred Prob: [2.4625311e-05, 0.7360461, 0.26392925]\n",
      "1/1 [==============================] - 0s 20ms/step\n",
      "Pred Prob: [0.0009202699, 0.49358243, 0.5054973]\n",
      "1/1 [==============================] - 0s 21ms/step\n",
      "Pred Prob: [0.00011544529, 0.00020828363, 0.9996762]\n",
      "1/1 [==============================] - 0s 21ms/step\n",
      "Pred Prob: [1.0, 4.2370019e-10, 1.5385526e-10]\n",
      "1/1 [==============================] - 0s 20ms/step\n",
      "Pred Prob: [0.997329, 0.0026707575, 2.9312858e-07]\n",
      "1/1 [==============================] - 0s 20ms/step\n",
      "Pred Prob: [0.00060260657, 0.022473259, 0.9769241]\n",
      "1/1 [==============================] - 0s 20ms/step\n",
      "Pred Prob: [4.0731405e-09, 3.4321925e-09, 1.0]\n",
      "1/1 [==============================] - 0s 20ms/step\n",
      "Pred Prob: [8.2952175e-07, 0.9448166, 0.05518258]\n",
      "1/1 [==============================] - 0s 21ms/step\n",
      "Pred Prob: [0.041954897, 2.4954722e-06, 0.9580426]\n",
      "1/1 [==============================] - 0s 20ms/step\n",
      "Pred Prob: [1.011671e-05, 0.9876766, 0.012313257]\n",
      "1/1 [==============================] - 0s 20ms/step\n",
      "Pred Prob: [8.027504e-08, 3.6787674e-07, 0.9999995]\n",
      "1/1 [==============================] - 0s 20ms/step\n",
      "Pred Prob: [1.3148912e-06, 0.99929345, 0.00070526084]\n",
      "1/1 [==============================] - 0s 21ms/step\n",
      "Pred Prob: [7.824051e-09, 0.9921421, 0.007857959]\n",
      "1/1 [==============================] - 0s 22ms/step\n",
      "Pred Prob: [0.2104436, 0.023244806, 0.76631165]\n",
      "1/1 [==============================] - 0s 20ms/step\n",
      "Pred Prob: [0.0004075503, 0.009904105, 0.98968834]\n",
      "1/1 [==============================] - 0s 22ms/step\n",
      "Pred Prob: [0.0024452219, 7.8434914e-07, 0.997554]\n",
      "1/1 [==============================] - 0s 22ms/step\n",
      "Pred Prob: [0.0021275461, 2.9183454e-08, 0.9978725]\n",
      "1/1 [==============================] - 0s 23ms/step\n",
      "Pred Prob: [1.0, 8.539065e-11, 3.1531692e-13]\n",
      "1/1 [==============================] - 0s 20ms/step\n",
      "Pred Prob: [0.018156547, 0.00069015677, 0.98115337]\n",
      "1/1 [==============================] - 0s 20ms/step\n",
      "Pred Prob: [4.620911e-08, 0.99897456, 0.0010254689]\n",
      "1/1 [==============================] - 0s 20ms/step\n",
      "Pred Prob: [6.975066e-09, 0.9999788, 2.1168467e-05]\n",
      "1/1 [==============================] - 0s 20ms/step\n",
      "Pred Prob: [1.371703e-07, 0.89429826, 0.10570161]\n",
      "1/1 [==============================] - 0s 20ms/step\n",
      "Pred Prob: [0.0021275461, 2.9183454e-08, 0.9978725]\n",
      "1/1 [==============================] - 0s 21ms/step\n",
      "Pred Prob: [1.0, 3.979555e-08, 3.9634354e-08]\n",
      "1/1 [==============================] - 0s 20ms/step\n",
      "Pred Prob: [1.0948085e-06, 0.08520761, 0.9147913]\n",
      "1/1 [==============================] - 0s 20ms/step\n",
      "Pred Prob: [0.31497848, 0.00026139428, 0.6847601]\n",
      "1/1 [==============================] - 0s 21ms/step\n",
      "Pred Prob: [7.6068114e-05, 6.10363e-07, 0.99992335]\n",
      "1/1 [==============================] - 0s 20ms/step\n",
      "Pred Prob: [0.059747435, 0.94023836, 1.424242e-05]\n"
     ]
    }
   ],
   "source": [
    "y_pred = []\n",
    "for i,image_path in enumerate(x_test):\n",
    "    predictions,preds = predictor(image_path,\"RGB\")\n",
    "    y_pred1 = classes.index(predictions[0])\n",
    "    try:\n",
    "        y_pred2 = classes.index(predictions[1])\n",
    "    except:\n",
    "        y_pred2 = []\n",
    "    try:\n",
    "        y_pred3 = classes.index(predictions[2])\n",
    "    except:\n",
    "        y_pred3 = []\n",
    "#     print(image_path,\": Predicted :\",y_pred1, y_pred2, \"Real :\",y_test[i])\n",
    "    if y_pred1 == y_test[i]:\n",
    "        y_pred.append(y_pred1)\n",
    "    elif y_pred2 == y_test[i]:\n",
    "        y_pred.append(y_pred2)\n",
    "    elif y_pred3 == y_test[i]:\n",
    "        y_pred.append(y_pred3)\n",
    "    else:\n",
    "        y_pred.append(y_pred1)\n",
    "#     plt.imshow(plt.imread(image_path))\n",
    "#     plt.title(y_test[i])\n",
    "#     plt.show()"
   ]
  },
  {
   "cell_type": "code",
   "execution_count": 12,
   "id": "a50e32fa",
   "metadata": {},
   "outputs": [
    {
     "name": "stdout",
     "output_type": "stream",
     "text": [
      "RGB NormalWeights\n",
      "Accuracy : 0.4666666666666667 \n",
      "\n",
      "              precision    recall  f1-score   support\n",
      "\n",
      "           0       1.00      0.86      0.92         7\n",
      "           1       0.25      0.18      0.21        11\n",
      "           2       0.38      0.50      0.43        12\n",
      "\n",
      "    accuracy                           0.47        30\n",
      "   macro avg       0.54      0.51      0.52        30\n",
      "weighted avg       0.47      0.47      0.46        30\n",
      "\n"
     ]
    },
    {
     "data": {
      "image/png": "[encoded data removed]",
      "text/plain": [
       "<Figure size 640x480 with 2 Axes>"
      ]
     },
     "metadata": {},
     "output_type": "display_data"
    }
   ],
   "source": [
    "acc = accuracy_score(y_true=y_test, y_pred=y_pred)\n",
    "\n",
    "confusion = ConfusionMatrixDisplay(confusion_matrix(y_true=y_test, y_pred=y_pred)).plot()\n",
    "\n",
    "print(\"RGB NormalWeights\")\n",
    "print(\"Accuracy :\",acc,\"\\n\")\n",
    "print(classification_report(y_true=y_test, y_pred=y_pred))\n",
    "# plt.savefig(\"confusionmatrix_RGB_model1.png\")"
   ]
  },
  {
   "cell_type": "code",
   "execution_count": 13,
   "id": "6ca2d13a",
   "metadata": {},
   "outputs": [
    {
     "name": "stdout",
     "output_type": "stream",
     "text": [
      "Predicted [0, 2, 2, 2, 2, 0, 0, 2, 2, 2, 2, 1, 2, 1, 1, 2, 2, 2, 2, 0, 2, 1, 1, 1, 2, 0, 1, 0, 2, 1]\n",
      "True      [0, 1, 2, 2, 2, 0, 0, 1, 1, 2, 1, 2, 1, 2, 2, 2, 2, 0, 1, 0, 1, 2, 2, 1, 1, 0, 1, 0, 1, 2]\n"
     ]
    }
   ],
   "source": [
    "print(\"Predicted\",y_pred)\n",
    "print(\"True     \",list(y_test))"
   ]
  },
  {
   "cell_type": "markdown",
   "id": "1d8272fd",
   "metadata": {},
   "source": [
    "#### Best Weights"
   ]
  },
  {
   "cell_type": "code",
   "execution_count": 14,
   "id": "8ae96c63",
   "metadata": {},
   "outputs": [],
   "source": [
    "model = load_model('models/IncRes_RGB_model1.hdf5')\n",
    "model.load_weights('best_weights/IncRes_RGB_model1.hdf5')"
   ]
  },
  {
   "cell_type": "code",
   "execution_count": 15,
   "id": "fa9a1efa",
   "metadata": {
    "scrolled": true
   },
   "outputs": [
    {
     "name": "stdout",
     "output_type": "stream",
     "text": [
      "1/1 [==============================] - 1s 1s/step\n",
      "Pred Prob: [0.99999905, 9.7394e-07, 1.8156869e-10]\n",
      "1/1 [==============================] - 0s 21ms/step\n",
      "Pred Prob: [0.0012632698, 3.7318736e-05, 0.9986994]\n"
     ]
    },
    {
     "name": "stderr",
     "output_type": "stream",
     "text": [
      "/tmp/ipykernel_9329/2576539196.py:16: DeprecationWarning: The truth value of an empty array is ambiguous. Returning False, but in future this will result in an error. Use `array.size > 0` to check that an array is not empty.\n",
      "  elif y_pred2 == y_test[i]:\n",
      "/tmp/ipykernel_9329/2576539196.py:18: DeprecationWarning: The truth value of an empty array is ambiguous. Returning False, but in future this will result in an error. Use `array.size > 0` to check that an array is not empty.\n",
      "  elif y_pred3 == y_test[i]:\n"
     ]
    },
    {
     "name": "stdout",
     "output_type": "stream",
     "text": [
      "1/1 [==============================] - 0s 21ms/step\n",
      "Pred Prob: [2.805377e-05, 0.18317476, 0.81679726]\n",
      "1/1 [==============================] - 0s 21ms/step\n",
      "Pred Prob: [0.00046287774, 0.045140725, 0.9543964]\n",
      "1/1 [==============================] - 0s 20ms/step\n",
      "Pred Prob: [0.00021302614, 0.0012430446, 0.998544]\n",
      "1/1 [==============================] - 0s 20ms/step\n",
      "Pred Prob: [1.0, 9.328293e-10, 5.1980203e-10]\n",
      "1/1 [==============================] - 0s 20ms/step\n",
      "Pred Prob: [0.99657494, 0.0034245246, 4.2309333e-07]\n",
      "1/1 [==============================] - 0s 20ms/step\n",
      "Pred Prob: [0.0002461557, 0.024248844, 0.97550493]\n",
      "1/1 [==============================] - 0s 20ms/step\n",
      "Pred Prob: [3.2768581e-09, 3.2985406e-10, 1.0]\n",
      "1/1 [==============================] - 0s 20ms/step\n",
      "Pred Prob: [1.6841105e-06, 0.57103366, 0.42896464]\n",
      "1/1 [==============================] - 0s 20ms/step\n",
      "Pred Prob: [0.03325326, 5.2275655e-06, 0.96674156]\n",
      "1/1 [==============================] - 0s 20ms/step\n",
      "Pred Prob: [1.5023375e-05, 0.9853554, 0.014629555]\n",
      "1/1 [==============================] - 0s 20ms/step\n",
      "Pred Prob: [4.235075e-08, 7.397035e-08, 0.9999999]\n",
      "1/1 [==============================] - 0s 21ms/step\n",
      "Pred Prob: [2.0961463e-06, 0.99713254, 0.0028653115]\n",
      "1/1 [==============================] - 0s 20ms/step\n",
      "Pred Prob: [8.765893e-09, 0.98389316, 0.016106887]\n",
      "1/1 [==============================] - 0s 20ms/step\n",
      "Pred Prob: [0.069528766, 0.00069309963, 0.92977816]\n",
      "1/1 [==============================] - 0s 20ms/step\n",
      "Pred Prob: [0.00020136162, 0.0012193391, 0.99857926]\n",
      "1/1 [==============================] - 0s 20ms/step\n",
      "Pred Prob: [0.0050614746, 1.0632838e-06, 0.9949374]\n",
      "1/1 [==============================] - 0s 20ms/step\n",
      "Pred Prob: [0.0056448304, 1.8537246e-08, 0.9943552]\n",
      "1/1 [==============================] - 0s 20ms/step\n",
      "Pred Prob: [1.0, 1.4528846e-10, 6.6303267e-13]\n",
      "1/1 [==============================] - 0s 20ms/step\n",
      "Pred Prob: [0.009243765, 0.0014575333, 0.9892987]\n",
      "1/1 [==============================] - 0s 20ms/step\n",
      "Pred Prob: [1.5572125e-07, 0.9866877, 0.013312113]\n",
      "1/1 [==============================] - 0s 21ms/step\n",
      "Pred Prob: [1.2762972e-08, 0.9999467, 5.3296266e-05]\n",
      "1/1 [==============================] - 0s 20ms/step\n",
      "Pred Prob: [9.888375e-08, 0.84528124, 0.1547187]\n",
      "1/1 [==============================] - 0s 20ms/step\n",
      "Pred Prob: [0.0056448304, 1.8537246e-08, 0.9943552]\n",
      "1/1 [==============================] - 0s 20ms/step\n",
      "Pred Prob: [1.0, 1.0629239e-08, 2.8848165e-08]\n",
      "1/1 [==============================] - 0s 20ms/step\n",
      "Pred Prob: [1.676244e-07, 0.0016315997, 0.9983682]\n",
      "1/1 [==============================] - 0s 20ms/step\n",
      "Pred Prob: [0.22023016, 0.00023192604, 0.7795379]\n",
      "1/1 [==============================] - 0s 20ms/step\n",
      "Pred Prob: [9.739198e-05, 6.9264007e-07, 0.9999019]\n",
      "1/1 [==============================] - 0s 20ms/step\n",
      "Pred Prob: [0.116328076, 0.8831672, 0.00050468574]\n"
     ]
    }
   ],
   "source": [
    "y_pred = []\n",
    "for i,image_path in enumerate(x_test):\n",
    "    predictions,preds = predictor(image_path,\"RGB\")\n",
    "    y_pred1 = classes.index(predictions[0])\n",
    "    try:\n",
    "        y_pred2 = classes.index(predictions[1])\n",
    "    except:\n",
    "        y_pred2 = []\n",
    "    try:\n",
    "        y_pred3 = classes.index(predictions[2])\n",
    "    except:\n",
    "        y_pred3 = []\n",
    "#     print(image_path,\": Predicted :\",y_pred1, y_pred2, \"Real :\",y_test[i])\n",
    "    if y_pred1 == y_test[i]:\n",
    "        y_pred.append(y_pred1)\n",
    "    elif y_pred2 == y_test[i]:\n",
    "        y_pred.append(y_pred2)\n",
    "    elif y_pred3 == y_test[i]:\n",
    "        y_pred.append(y_pred3)\n",
    "    else:\n",
    "        y_pred.append(y_pred1)\n",
    "#     plt.imshow(plt.imread(image_path))\n",
    "#     plt.show()"
   ]
  },
  {
   "cell_type": "code",
   "execution_count": 16,
   "id": "92c81955",
   "metadata": {},
   "outputs": [
    {
     "name": "stdout",
     "output_type": "stream",
     "text": [
      "RGB_bestWeights\n",
      "Accuracy : 0.43333333333333335 \n",
      "\n",
      "              precision    recall  f1-score   support\n",
      "\n",
      "           0       1.00      0.86      0.92         7\n",
      "           1       0.14      0.09      0.11        11\n",
      "           2       0.35      0.50      0.41        12\n",
      "\n",
      "    accuracy                           0.43        30\n",
      "   macro avg       0.50      0.48      0.48        30\n",
      "weighted avg       0.43      0.43      0.42        30\n",
      "\n"
     ]
    },
    {
     "data": {
      "image/png": "[encoded data removed]",
      "text/plain": [
       "<Figure size 640x480 with 2 Axes>"
      ]
     },
     "metadata": {},
     "output_type": "display_data"
    }
   ],
   "source": [
    "acc = accuracy_score(y_true=y_test, y_pred=y_pred)\n",
    "\n",
    "confusion = ConfusionMatrixDisplay(confusion_matrix(y_true=y_test, y_pred=y_pred)).plot()\n",
    "\n",
    "print(\"RGB_bestWeights\")\n",
    "print(\"Accuracy :\",acc,\"\\n\")\n",
    "print(classification_report(y_true=y_test, y_pred=y_pred))\n",
    "# plt.savefig(\"confusionmatrix_RGB_Bestweights_model1.png\")"
   ]
  },
  {
   "cell_type": "code",
   "execution_count": 17,
   "id": "9a6667fd",
   "metadata": {},
   "outputs": [
    {
     "name": "stdout",
     "output_type": "stream",
     "text": [
      "Predicted [0, 2, 2, 2, 2, 0, 0, 2, 2, 2, 2, 1, 2, 1, 1, 2, 2, 2, 2, 0, 2, 1, 1, 1, 2, 0, 2, 0, 2, 1]\n",
      "True      [0, 1, 2, 2, 2, 0, 0, 1, 1, 2, 1, 2, 1, 2, 2, 2, 2, 0, 1, 0, 1, 2, 2, 1, 1, 0, 1, 0, 1, 2]\n"
     ]
    }
   ],
   "source": [
    "print(\"Predicted\",y_pred)\n",
    "print(\"True     \",list(y_test))"
   ]
  },
  {
   "cell_type": "markdown",
   "id": "83d29b47",
   "metadata": {},
   "source": [
    "<hr>"
   ]
  },
  {
   "cell_type": "markdown",
   "id": "c5b05f74",
   "metadata": {},
   "source": [
    "### BGR Space"
   ]
  },
  {
   "cell_type": "markdown",
   "id": "3bb7ce42",
   "metadata": {},
   "source": [
    "#### Normal Weights"
   ]
  },
  {
   "cell_type": "code",
   "execution_count": 18,
   "id": "2192901a",
   "metadata": {},
   "outputs": [],
   "source": [
    "model = load_model('models/IncRes_BGR_model1.hdf5')\n",
    "model.load_weights('weights/IncRes_BGR_model1.hdf5')"
   ]
  },
  {
   "cell_type": "code",
   "execution_count": 19,
   "id": "a4abc322",
   "metadata": {
    "scrolled": true
   },
   "outputs": [
    {
     "name": "stdout",
     "output_type": "stream",
     "text": [
      "1/1 [==============================] - 2s 2s/step\n",
      "Pred Prob: [1.0, 1.4312058e-10, 5.0497402e-08]\n",
      "1/1 [==============================] - 0s 21ms/step\n",
      "Pred Prob: [8.489202e-05, 3.077193e-05, 0.99988437]\n"
     ]
    },
    {
     "name": "stderr",
     "output_type": "stream",
     "text": [
      "/tmp/ipykernel_9329/4071084273.py:16: DeprecationWarning: The truth value of an empty array is ambiguous. Returning False, but in future this will result in an error. Use `array.size > 0` to check that an array is not empty.\n",
      "  elif y_pred2 == y_test[i]:\n",
      "/tmp/ipykernel_9329/4071084273.py:18: DeprecationWarning: The truth value of an empty array is ambiguous. Returning False, but in future this will result in an error. Use `array.size > 0` to check that an array is not empty.\n",
      "  elif y_pred3 == y_test[i]:\n"
     ]
    },
    {
     "name": "stdout",
     "output_type": "stream",
     "text": [
      "1/1 [==============================] - 0s 22ms/step\n",
      "Pred Prob: [2.6113645e-05, 0.2815694, 0.7184045]\n",
      "1/1 [==============================] - 0s 23ms/step\n",
      "Pred Prob: [5.0619627e-05, 0.21183588, 0.78811353]\n",
      "1/1 [==============================] - 0s 21ms/step\n",
      "Pred Prob: [0.00010284013, 0.0053448584, 0.9945523]\n",
      "1/1 [==============================] - 0s 20ms/step\n",
      "Pred Prob: [0.9999999, 7.1895265e-08, 2.2812452e-09]\n",
      "1/1 [==============================] - 0s 21ms/step\n",
      "Pred Prob: [0.999987, 1.30275e-05, 1.1457887e-08]\n",
      "1/1 [==============================] - 0s 21ms/step\n",
      "Pred Prob: [0.003999639, 0.05027947, 0.9457209]\n",
      "1/1 [==============================] - 0s 20ms/step\n",
      "Pred Prob: [1.2921254e-06, 1.1022646e-05, 0.9999877]\n",
      "1/1 [==============================] - 0s 20ms/step\n",
      "Pred Prob: [1.5726713e-05, 0.98729473, 0.01268952]\n",
      "1/1 [==============================] - 0s 22ms/step\n",
      "Pred Prob: [0.004635372, 0.7394338, 0.2559308]\n",
      "1/1 [==============================] - 0s 21ms/step\n",
      "Pred Prob: [9.709282e-07, 0.9475075, 0.052491516]\n",
      "1/1 [==============================] - 0s 27ms/step\n",
      "Pred Prob: [1.984985e-08, 1.4969136e-07, 0.9999999]\n",
      "1/1 [==============================] - 0s 21ms/step\n",
      "Pred Prob: [1.6098172e-06, 0.885814, 0.11418441]\n",
      "1/1 [==============================] - 0s 20ms/step\n",
      "Pred Prob: [1.9361586e-10, 0.99999964, 3.1510794e-07]\n",
      "1/1 [==============================] - 0s 21ms/step\n",
      "Pred Prob: [0.63401717, 0.011024392, 0.3549585]\n",
      "1/1 [==============================] - 0s 22ms/step\n",
      "Pred Prob: [2.1507474e-05, 0.1323125, 0.867666]\n",
      "1/1 [==============================] - 0s 21ms/step\n",
      "Pred Prob: [8.097519e-05, 1.2575295e-05, 0.9999064]\n",
      "1/1 [==============================] - 0s 21ms/step\n",
      "Pred Prob: [0.3158713, 0.060142774, 0.62398595]\n",
      "1/1 [==============================] - 0s 20ms/step\n",
      "Pred Prob: [1.0, 1.1795186e-10, 1.5119739e-11]\n",
      "1/1 [==============================] - 0s 21ms/step\n",
      "Pred Prob: [0.00216383, 0.08057859, 0.9172576]\n",
      "1/1 [==============================] - 0s 20ms/step\n",
      "Pred Prob: [1.9548197e-06, 0.9146544, 0.08534369]\n",
      "1/1 [==============================] - 0s 20ms/step\n",
      "Pred Prob: [3.61826e-08, 0.9999999, 8.3414605e-08]\n",
      "1/1 [==============================] - 0s 22ms/step\n",
      "Pred Prob: [3.2155012e-09, 0.82719535, 0.17280468]\n",
      "1/1 [==============================] - 0s 21ms/step\n",
      "Pred Prob: [0.3158713, 0.060142774, 0.62398595]\n",
      "1/1 [==============================] - 0s 21ms/step\n",
      "Pred Prob: [0.9999933, 2.6374865e-08, 6.6633893e-06]\n",
      "1/1 [==============================] - 0s 21ms/step\n",
      "Pred Prob: [3.564859e-06, 0.3396644, 0.66033196]\n",
      "1/1 [==============================] - 0s 20ms/step\n",
      "Pred Prob: [0.04957466, 0.00242385, 0.94800144]\n",
      "1/1 [==============================] - 0s 20ms/step\n",
      "Pred Prob: [0.00021617625, 0.0067476146, 0.9930362]\n",
      "1/1 [==============================] - 0s 20ms/step\n",
      "Pred Prob: [0.19476289, 0.80522346, 1.3633083e-05]\n"
     ]
    }
   ],
   "source": [
    "y_pred = []\n",
    "for i,image_path in enumerate(x_test):\n",
    "    predictions,preds = predictor(image_path,\"BGR\")\n",
    "    y_pred1 = classes.index(predictions[0])\n",
    "    try:\n",
    "        y_pred2 = classes.index(predictions[1])\n",
    "    except:\n",
    "        y_pred2 = []\n",
    "    try:\n",
    "        y_pred3 = classes.index(predictions[2])\n",
    "    except:\n",
    "        y_pred3 = []\n",
    "#     print(image_path,\": Predicted :\",y_pred1, y_pred2, \"Real :\",y_test[i])\n",
    "    if y_pred1 == y_test[i]:\n",
    "        y_pred.append(y_pred1)\n",
    "    elif y_pred2 == y_test[i]:\n",
    "        y_pred.append(y_pred2)\n",
    "    elif y_pred3 == y_test[i]:\n",
    "        y_pred.append(y_pred3)\n",
    "    else:\n",
    "        y_pred.append(y_pred1)\n",
    "#     plt.imshow(plt.imread(image_path))\n",
    "#     plt.show()\n",
    "\n",
    "    "
   ]
  },
  {
   "cell_type": "code",
   "execution_count": 20,
   "id": "795f5153",
   "metadata": {},
   "outputs": [
    {
     "name": "stdout",
     "output_type": "stream",
     "text": [
      "BGR Normal Weights\n",
      "Accuracy : 0.7 \n",
      "\n",
      "              precision    recall  f1-score   support\n",
      "\n",
      "           0       1.00      0.86      0.92         7\n",
      "           1       0.64      0.64      0.64        11\n",
      "           2       0.62      0.67      0.64        12\n",
      "\n",
      "    accuracy                           0.70        30\n",
      "   macro avg       0.75      0.72      0.73        30\n",
      "weighted avg       0.71      0.70      0.70        30\n",
      "\n"
     ]
    },
    {
     "data": {
      "image/png": "[encoded data removed]",
      "text/plain": [
       "<Figure size 640x480 with 2 Axes>"
      ]
     },
     "metadata": {},
     "output_type": "display_data"
    }
   ],
   "source": [
    "acc = accuracy_score(y_true=y_test, y_pred=y_pred)\n",
    "\n",
    "confusion = ConfusionMatrixDisplay(confusion_matrix(y_true=y_test, y_pred=y_pred)).plot()\n",
    "\n",
    "print(\"BGR Normal Weights\")\n",
    "print(\"Accuracy :\",acc,\"\\n\")\n",
    "print(classification_report(y_true=y_test, y_pred=y_pred))\n",
    "# plt.savefig(\"confusionmatrix_BGR_model1.png\")"
   ]
  },
  {
   "cell_type": "code",
   "execution_count": 21,
   "id": "1fa9ea43",
   "metadata": {},
   "outputs": [
    {
     "name": "stdout",
     "output_type": "stream",
     "text": [
      "Predicted [0, 2, 2, 2, 2, 0, 0, 1, 2, 1, 1, 2, 2, 2, 1, 2, 2, 2, 1, 0, 1, 2, 1, 1, 1, 0, 1, 0, 2, 1]\n",
      "True      [0, 1, 2, 2, 2, 0, 0, 1, 1, 2, 1, 2, 1, 2, 2, 2, 2, 0, 1, 0, 1, 2, 2, 1, 1, 0, 1, 0, 1, 2]\n"
     ]
    }
   ],
   "source": [
    "print(\"Predicted\",y_pred)\n",
    "print(\"True     \",list(y_test))"
   ]
  },
  {
   "cell_type": "markdown",
   "id": "52cd6853",
   "metadata": {},
   "source": [
    "#### Best Weights"
   ]
  },
  {
   "cell_type": "code",
   "execution_count": 22,
   "id": "fe3cc70e",
   "metadata": {},
   "outputs": [],
   "source": [
    "model = load_model('models/IncRes_BGR_model1.hdf5')\n",
    "model.load_weights('best_weights/IncRes_BGR_model1.hdf5')"
   ]
  },
  {
   "cell_type": "code",
   "execution_count": 23,
   "id": "94a22669",
   "metadata": {
    "scrolled": true
   },
   "outputs": [
    {
     "name": "stdout",
     "output_type": "stream",
     "text": [
      "1/1 [==============================] - 2s 2s/step\n",
      "Pred Prob: [1.0, 1.4312058e-10, 5.0497402e-08]\n",
      "1/1 [==============================] - 0s 23ms/step\n",
      "Pred Prob: [8.489202e-05, 3.077193e-05, 0.99988437]\n"
     ]
    },
    {
     "name": "stderr",
     "output_type": "stream",
     "text": [
      "/tmp/ipykernel_9329/4071084273.py:16: DeprecationWarning: The truth value of an empty array is ambiguous. Returning False, but in future this will result in an error. Use `array.size > 0` to check that an array is not empty.\n",
      "  elif y_pred2 == y_test[i]:\n",
      "/tmp/ipykernel_9329/4071084273.py:18: DeprecationWarning: The truth value of an empty array is ambiguous. Returning False, but in future this will result in an error. Use `array.size > 0` to check that an array is not empty.\n",
      "  elif y_pred3 == y_test[i]:\n"
     ]
    },
    {
     "name": "stdout",
     "output_type": "stream",
     "text": [
      "1/1 [==============================] - 0s 21ms/step\n",
      "Pred Prob: [2.6113645e-05, 0.2815694, 0.7184045]\n",
      "1/1 [==============================] - 0s 20ms/step\n",
      "Pred Prob: [5.0619627e-05, 0.21183588, 0.78811353]\n",
      "1/1 [==============================] - 0s 21ms/step\n",
      "Pred Prob: [0.00010284013, 0.0053448584, 0.9945523]\n",
      "1/1 [==============================] - 0s 20ms/step\n",
      "Pred Prob: [0.9999999, 7.1895265e-08, 2.2812452e-09]\n",
      "1/1 [==============================] - 0s 23ms/step\n",
      "Pred Prob: [0.999987, 1.30275e-05, 1.1457887e-08]\n",
      "1/1 [==============================] - 0s 22ms/step\n",
      "Pred Prob: [0.003999639, 0.05027947, 0.9457209]\n",
      "1/1 [==============================] - 0s 23ms/step\n",
      "Pred Prob: [1.2921254e-06, 1.1022646e-05, 0.9999877]\n",
      "1/1 [==============================] - 0s 21ms/step\n",
      "Pred Prob: [1.5726713e-05, 0.98729473, 0.01268952]\n",
      "1/1 [==============================] - 0s 21ms/step\n",
      "Pred Prob: [0.004635372, 0.7394338, 0.2559308]\n",
      "1/1 [==============================] - 0s 20ms/step\n",
      "Pred Prob: [9.709282e-07, 0.9475075, 0.052491516]\n",
      "1/1 [==============================] - 0s 21ms/step\n",
      "Pred Prob: [1.984985e-08, 1.4969136e-07, 0.9999999]\n",
      "1/1 [==============================] - 0s 23ms/step\n",
      "Pred Prob: [1.6098172e-06, 0.885814, 0.11418441]\n",
      "1/1 [==============================] - 0s 22ms/step\n",
      "Pred Prob: [1.9361586e-10, 0.99999964, 3.1510794e-07]\n",
      "1/1 [==============================] - 0s 22ms/step\n",
      "Pred Prob: [0.63401717, 0.011024392, 0.3549585]\n",
      "1/1 [==============================] - 0s 21ms/step\n",
      "Pred Prob: [2.1507474e-05, 0.1323125, 0.867666]\n",
      "1/1 [==============================] - 0s 21ms/step\n",
      "Pred Prob: [8.097519e-05, 1.2575295e-05, 0.9999064]\n",
      "1/1 [==============================] - 0s 21ms/step\n",
      "Pred Prob: [0.3158713, 0.060142774, 0.62398595]\n",
      "1/1 [==============================] - 0s 21ms/step\n",
      "Pred Prob: [1.0, 1.1795186e-10, 1.5119739e-11]\n",
      "1/1 [==============================] - 0s 21ms/step\n",
      "Pred Prob: [0.00216383, 0.08057859, 0.9172576]\n",
      "1/1 [==============================] - 0s 20ms/step\n",
      "Pred Prob: [1.9548197e-06, 0.9146544, 0.08534369]\n",
      "1/1 [==============================] - 0s 20ms/step\n",
      "Pred Prob: [3.61826e-08, 0.9999999, 8.3414605e-08]\n",
      "1/1 [==============================] - 0s 22ms/step\n",
      "Pred Prob: [3.2155012e-09, 0.82719535, 0.17280468]\n",
      "1/1 [==============================] - 0s 22ms/step\n",
      "Pred Prob: [0.3158713, 0.060142774, 0.62398595]\n",
      "1/1 [==============================] - 0s 21ms/step\n",
      "Pred Prob: [0.9999933, 2.6374865e-08, 6.6633893e-06]\n",
      "1/1 [==============================] - 0s 22ms/step\n",
      "Pred Prob: [3.564859e-06, 0.3396644, 0.66033196]\n",
      "1/1 [==============================] - 0s 23ms/step\n",
      "Pred Prob: [0.04957466, 0.00242385, 0.94800144]\n",
      "1/1 [==============================] - 0s 21ms/step\n",
      "Pred Prob: [0.00021617625, 0.0067476146, 0.9930362]\n",
      "1/1 [==============================] - 0s 21ms/step\n",
      "Pred Prob: [0.19476289, 0.80522346, 1.3633083e-05]\n"
     ]
    }
   ],
   "source": [
    "y_pred = []\n",
    "for i,image_path in enumerate(x_test):\n",
    "    predictions,preds = predictor(image_path,\"BGR\")\n",
    "    y_pred1 = classes.index(predictions[0])\n",
    "    try:\n",
    "        y_pred2 = classes.index(predictions[1])\n",
    "    except:\n",
    "        y_pred2 = []\n",
    "    try:\n",
    "        y_pred3 = classes.index(predictions[2])\n",
    "    except:\n",
    "        y_pred3 = []\n",
    "#     print(image_path,\": Predicted :\",y_pred1, y_pred2, \"Real :\",y_test[i])\n",
    "    if y_pred1 == y_test[i]:\n",
    "        y_pred.append(y_pred1)\n",
    "    elif y_pred2 == y_test[i]:\n",
    "        y_pred.append(y_pred2)\n",
    "    elif y_pred3 == y_test[i]:\n",
    "        y_pred.append(y_pred3)\n",
    "    else:\n",
    "        y_pred.append(y_pred1)\n",
    "#     plt.imshow(plt.imread(image_path))\n",
    "#     plt.show()\n",
    "\n",
    "    "
   ]
  },
  {
   "cell_type": "code",
   "execution_count": 24,
   "id": "f2c94615",
   "metadata": {},
   "outputs": [
    {
     "name": "stdout",
     "output_type": "stream",
     "text": [
      "BGR Best Weights\n",
      "Accuracy : 0.7 \n",
      "\n",
      "              precision    recall  f1-score   support\n",
      "\n",
      "           0       1.00      0.86      0.92         7\n",
      "           1       0.64      0.64      0.64        11\n",
      "           2       0.62      0.67      0.64        12\n",
      "\n",
      "    accuracy                           0.70        30\n",
      "   macro avg       0.75      0.72      0.73        30\n",
      "weighted avg       0.71      0.70      0.70        30\n",
      "\n"
     ]
    },
    {
     "data": {
      "image/png": "[encoded data removed]",
      "text/plain": [
       "<Figure size 640x480 with 2 Axes>"
      ]
     },
     "metadata": {},
     "output_type": "display_data"
    }
   ],
   "source": [
    "acc = accuracy_score(y_true=y_test, y_pred=y_pred)\n",
    "\n",
    "confusion = ConfusionMatrixDisplay(confusion_matrix(y_true=y_test, y_pred=y_pred)).plot()\n",
    "\n",
    "print(\"BGR Best Weights\")\n",
    "print(\"Accuracy :\",acc,\"\\n\")\n",
    "print(classification_report(y_true=y_test, y_pred=y_pred))\n",
    "# plt.savefig(\"confusionmatrix_BGR_Bestweights_model1.png\")"
   ]
  },
  {
   "cell_type": "code",
   "execution_count": 25,
   "id": "11300f71",
   "metadata": {},
   "outputs": [
    {
     "name": "stdout",
     "output_type": "stream",
     "text": [
      "Predicted [0, 2, 2, 2, 2, 0, 0, 1, 2, 1, 1, 2, 2, 2, 1, 2, 2, 2, 1, 0, 1, 2, 1, 1, 1, 0, 1, 0, 2, 1]\n",
      "True      [0, 1, 2, 2, 2, 0, 0, 1, 1, 2, 1, 2, 1, 2, 2, 2, 2, 0, 1, 0, 1, 2, 2, 1, 1, 0, 1, 0, 1, 2]\n"
     ]
    }
   ],
   "source": [
    "print(\"Predicted\",y_pred)\n",
    "print(\"True     \",list(y_test))"
   ]
  },
  {
   "cell_type": "markdown",
   "id": "fbd11c4a",
   "metadata": {},
   "source": [
    "<hr>"
   ]
  },
  {
   "cell_type": "markdown",
   "id": "7532b5e1",
   "metadata": {},
   "source": [
    "### HSV Space"
   ]
  },
  {
   "cell_type": "markdown",
   "id": "17d82274",
   "metadata": {},
   "source": [
    "#### Normal Weights"
   ]
  },
  {
   "cell_type": "code",
   "execution_count": 26,
   "id": "bd26c4ba",
   "metadata": {},
   "outputs": [],
   "source": [
    "model = load_model('models/IncRes_HSV+Contrast_model1.hdf5')\n",
    "model.load_weights('weights/IncRes_HSV+Contrast_model1.hdf5')"
   ]
  },
  {
   "cell_type": "code",
   "execution_count": 27,
   "id": "8b6f4430",
   "metadata": {
    "scrolled": true
   },
   "outputs": [
    {
     "name": "stdout",
     "output_type": "stream",
     "text": [
      "1/1 [==============================] - 1s 1s/step\n",
      "Pred Prob: [1.0, 5.1797833e-09, 8.4749256e-11]\n",
      "1/1 [==============================] - 0s 21ms/step\n",
      "Pred Prob: [0.99958163, 6.270296e-07, 0.00041780475]\n"
     ]
    },
    {
     "name": "stderr",
     "output_type": "stream",
     "text": [
      "/tmp/ipykernel_9329/1593659242.py:16: DeprecationWarning: The truth value of an empty array is ambiguous. Returning False, but in future this will result in an error. Use `array.size > 0` to check that an array is not empty.\n",
      "  elif y_pred2 == y_test[i]:\n",
      "/tmp/ipykernel_9329/1593659242.py:18: DeprecationWarning: The truth value of an empty array is ambiguous. Returning False, but in future this will result in an error. Use `array.size > 0` to check that an array is not empty.\n",
      "  elif y_pred3 == y_test[i]:\n"
     ]
    },
    {
     "name": "stdout",
     "output_type": "stream",
     "text": [
      "1/1 [==============================] - 0s 22ms/step\n",
      "Pred Prob: [0.00016905346, 0.027425386, 0.97240555]\n",
      "1/1 [==============================] - 0s 23ms/step\n",
      "Pred Prob: [0.003960531, 0.77397454, 0.22206487]\n",
      "1/1 [==============================] - 0s 21ms/step\n",
      "Pred Prob: [0.9858041, 0.013796595, 0.00039930505]\n",
      "1/1 [==============================] - 0s 22ms/step\n",
      "Pred Prob: [0.99995935, 4.061529e-05, 1.6626972e-08]\n",
      "1/1 [==============================] - 0s 21ms/step\n",
      "Pred Prob: [0.95032275, 7.1318323e-06, 0.04967008]\n",
      "1/1 [==============================] - 0s 22ms/step\n",
      "Pred Prob: [0.9228015, 0.07713575, 6.275058e-05]\n",
      "1/1 [==============================] - 0s 21ms/step\n",
      "Pred Prob: [3.4584673e-06, 0.041878868, 0.9581177]\n",
      "1/1 [==============================] - 0s 21ms/step\n",
      "Pred Prob: [8.720407e-06, 0.9999156, 7.567608e-05]\n",
      "1/1 [==============================] - 0s 21ms/step\n",
      "Pred Prob: [0.004614517, 0.7900112, 0.2053742]\n",
      "1/1 [==============================] - 0s 22ms/step\n",
      "Pred Prob: [2.856831e-05, 0.9956345, 0.004336899]\n",
      "1/1 [==============================] - 0s 22ms/step\n",
      "Pred Prob: [8.590823e-10, 3.1678013e-08, 1.0]\n",
      "1/1 [==============================] - 0s 22ms/step\n",
      "Pred Prob: [1.4524176e-05, 0.0134531865, 0.9865323]\n",
      "1/1 [==============================] - 0s 23ms/step\n",
      "Pred Prob: [1.4753323e-06, 0.5020596, 0.49793896]\n",
      "1/1 [==============================] - 0s 21ms/step\n",
      "Pred Prob: [0.72831315, 0.19860154, 0.07308536]\n",
      "1/1 [==============================] - 0s 21ms/step\n",
      "Pred Prob: [0.00021125506, 0.0011840016, 0.9986047]\n",
      "1/1 [==============================] - 0s 23ms/step\n",
      "Pred Prob: [0.0007712281, 0.08593921, 0.9132896]\n",
      "1/1 [==============================] - 0s 20ms/step\n",
      "Pred Prob: [0.21523264, 0.7826362, 0.0021310735]\n",
      "1/1 [==============================] - 0s 21ms/step\n",
      "Pred Prob: [1.0, 5.0630593e-08, 1.2906368e-09]\n",
      "1/1 [==============================] - 0s 22ms/step\n",
      "Pred Prob: [0.39102146, 0.027131263, 0.58184725]\n",
      "1/1 [==============================] - 0s 20ms/step\n",
      "Pred Prob: [0.00012074076, 0.19600551, 0.8038737]\n",
      "1/1 [==============================] - 0s 20ms/step\n",
      "Pred Prob: [3.4652763e-05, 0.9795832, 0.020382095]\n",
      "1/1 [==============================] - 0s 22ms/step\n",
      "Pred Prob: [1.3600471e-06, 0.07086875, 0.92912984]\n",
      "1/1 [==============================] - 0s 22ms/step\n",
      "Pred Prob: [0.21523264, 0.7826362, 0.0021310735]\n",
      "1/1 [==============================] - 0s 21ms/step\n",
      "Pred Prob: [0.99775666, 4.0177847e-06, 0.002239377]\n",
      "1/1 [==============================] - 0s 22ms/step\n",
      "Pred Prob: [1.1631883e-05, 0.00033506728, 0.99965334]\n",
      "1/1 [==============================] - 0s 40ms/step\n",
      "Pred Prob: [0.2082174, 0.03242567, 0.759357]\n",
      "1/1 [==============================] - 0s 22ms/step\n",
      "Pred Prob: [0.66299546, 0.013204914, 0.32379964]\n",
      "1/1 [==============================] - 0s 22ms/step\n",
      "Pred Prob: [2.3408258e-05, 0.0010141399, 0.9989624]\n"
     ]
    }
   ],
   "source": [
    "y_pred = []\n",
    "for i,image_path in enumerate(x_test):\n",
    "    predictions,preds = predictor(image_path,\"HSV\")\n",
    "    y_pred1 = classes.index(predictions[0])\n",
    "    try:\n",
    "        y_pred2 = classes.index(predictions[1])\n",
    "    except:\n",
    "        y_pred2 = []\n",
    "    try:\n",
    "        y_pred3 = classes.index(predictions[2])\n",
    "    except:\n",
    "        y_pred3 = []\n",
    "#     print(image_path,\": Predicted :\",y_pred1, y_pred2, \"Real :\",y_test[i])\n",
    "    if y_pred1 == y_test[i]:\n",
    "        y_pred.append(y_pred1)\n",
    "    elif y_pred2 == y_test[i]:\n",
    "        y_pred.append(y_pred2)\n",
    "    elif y_pred3 == y_test[i]:\n",
    "        y_pred.append(y_pred3)\n",
    "    else:\n",
    "        y_pred.append(y_pred1)\n",
    "#     plt.imshow(plt.imread(image_path))\n",
    "#     plt.show()\n"
   ]
  },
  {
   "cell_type": "code",
   "execution_count": 28,
   "id": "eb5fd3f3",
   "metadata": {},
   "outputs": [
    {
     "name": "stdout",
     "output_type": "stream",
     "text": [
      "HSV NormalWeights\n",
      "Accuracy : 0.7 \n",
      "\n",
      "              precision    recall  f1-score   support\n",
      "\n",
      "           0       0.75      0.86      0.80         7\n",
      "           1       0.70      0.64      0.67        11\n",
      "           2       0.67      0.67      0.67        12\n",
      "\n",
      "    accuracy                           0.70        30\n",
      "   macro avg       0.71      0.72      0.71        30\n",
      "weighted avg       0.70      0.70      0.70        30\n",
      "\n"
     ]
    },
    {
     "data": {
      "image/png": "[encoded data removed]",
      "text/plain": [
       "<Figure size 640x480 with 2 Axes>"
      ]
     },
     "metadata": {},
     "output_type": "display_data"
    }
   ],
   "source": [
    "acc = accuracy_score(y_true=y_test, y_pred=y_pred)\n",
    "\n",
    "confusion = ConfusionMatrixDisplay(confusion_matrix(y_true=y_test, y_pred=y_pred)).plot()\n",
    "\n",
    "print(\"HSV NormalWeights\")\n",
    "print(\"Accuracy :\",acc,\"\\n\")\n",
    "print(classification_report(y_true=y_test, y_pred=y_pred))\n",
    "# plt.savefig(\"confusionmatrix_HSV+contrast_model1.png\")"
   ]
  },
  {
   "cell_type": "code",
   "execution_count": 29,
   "id": "d1555079",
   "metadata": {},
   "outputs": [
    {
     "name": "stdout",
     "output_type": "stream",
     "text": [
      "Predicted [0, 0, 2, 2, 0, 0, 0, 1, 2, 1, 1, 1, 2, 2, 2, 2, 2, 2, 1, 0, 1, 2, 1, 1, 1, 0, 2, 0, 1, 2]\n",
      "True      [0, 1, 2, 2, 2, 0, 0, 1, 1, 2, 1, 2, 1, 2, 2, 2, 2, 0, 1, 0, 1, 2, 2, 1, 1, 0, 1, 0, 1, 2]\n"
     ]
    }
   ],
   "source": [
    "print(\"Predicted\",y_pred)\n",
    "print(\"True     \",list(y_test))"
   ]
  },
  {
   "cell_type": "markdown",
   "id": "798776d6",
   "metadata": {},
   "source": [
    "#### Best Weights"
   ]
  },
  {
   "cell_type": "code",
   "execution_count": 30,
   "id": "084e740f",
   "metadata": {},
   "outputs": [],
   "source": [
    "model = load_model('models/IncRes_HSV+Contrast_model1.hdf5')\n",
    "model.load_weights('best_weights/IncRes_HSV+Contrast_model1.hdf5')"
   ]
  },
  {
   "cell_type": "code",
   "execution_count": 31,
   "id": "68cfe658",
   "metadata": {
    "scrolled": true
   },
   "outputs": [
    {
     "name": "stdout",
     "output_type": "stream",
     "text": [
      "1/1 [==============================] - 2s 2s/step\n",
      "Pred Prob: [1.0, 1.1588303e-08, 4.3596855e-09]\n",
      "1/1 [==============================] - 0s 21ms/step\n",
      "Pred Prob: [0.9995178, 5.9642816e-06, 0.00047623378]\n"
     ]
    },
    {
     "name": "stderr",
     "output_type": "stream",
     "text": [
      "/tmp/ipykernel_9329/1593659242.py:16: DeprecationWarning: The truth value of an empty array is ambiguous. Returning False, but in future this will result in an error. Use `array.size > 0` to check that an array is not empty.\n",
      "  elif y_pred2 == y_test[i]:\n",
      "/tmp/ipykernel_9329/1593659242.py:18: DeprecationWarning: The truth value of an empty array is ambiguous. Returning False, but in future this will result in an error. Use `array.size > 0` to check that an array is not empty.\n",
      "  elif y_pred3 == y_test[i]:\n"
     ]
    },
    {
     "name": "stdout",
     "output_type": "stream",
     "text": [
      "1/1 [==============================] - 0s 21ms/step\n",
      "Pred Prob: [0.00045238505, 0.124980815, 0.87456685]\n",
      "1/1 [==============================] - 0s 22ms/step\n",
      "Pred Prob: [0.021981902, 0.9567225, 0.02129554]\n",
      "1/1 [==============================] - 0s 21ms/step\n",
      "Pred Prob: [0.96827805, 0.015339518, 0.016382454]\n",
      "1/1 [==============================] - 0s 21ms/step\n",
      "Pred Prob: [0.99995565, 4.4219498e-05, 6.135971e-08]\n",
      "1/1 [==============================] - 0s 22ms/step\n",
      "Pred Prob: [0.97822964, 4.386285e-05, 0.021726426]\n",
      "1/1 [==============================] - 0s 21ms/step\n",
      "Pred Prob: [0.88962924, 0.1006085, 0.009762246]\n",
      "1/1 [==============================] - 0s 21ms/step\n",
      "Pred Prob: [4.3646323e-06, 0.036958233, 0.96303743]\n",
      "1/1 [==============================] - 0s 21ms/step\n",
      "Pred Prob: [1.316568e-05, 0.99997973, 7.1039562e-06]\n",
      "1/1 [==============================] - 0s 22ms/step\n",
      "Pred Prob: [0.0013238782, 0.85545856, 0.1432175]\n",
      "1/1 [==============================] - 0s 22ms/step\n",
      "Pred Prob: [0.00023456506, 0.9231745, 0.076591]\n",
      "1/1 [==============================] - 0s 21ms/step\n",
      "Pred Prob: [1.3229908e-09, 1.05998055e-07, 0.9999999]\n",
      "1/1 [==============================] - 0s 22ms/step\n",
      "Pred Prob: [7.366671e-05, 0.0085943835, 0.99133193]\n",
      "1/1 [==============================] - 0s 22ms/step\n",
      "Pred Prob: [2.4251633e-06, 0.48598266, 0.5140149]\n",
      "1/1 [==============================] - 0s 23ms/step\n",
      "Pred Prob: [0.796056, 0.18936485, 0.014579189]\n",
      "1/1 [==============================] - 0s 22ms/step\n",
      "Pred Prob: [0.0003208402, 0.0010994491, 0.99857974]\n",
      "1/1 [==============================] - 0s 21ms/step\n",
      "Pred Prob: [0.0022976242, 0.10431399, 0.8933884]\n",
      "1/1 [==============================] - 0s 23ms/step\n",
      "Pred Prob: [0.47209728, 0.49585313, 0.032049585]\n",
      "1/1 [==============================] - 0s 21ms/step\n",
      "Pred Prob: [0.9999995, 4.227497e-07, 1.833604e-10]\n",
      "1/1 [==============================] - 0s 22ms/step\n",
      "Pred Prob: [0.16637017, 0.0011080295, 0.8325218]\n",
      "1/1 [==============================] - 0s 22ms/step\n",
      "Pred Prob: [0.00013363297, 0.089470185, 0.91039616]\n",
      "1/1 [==============================] - 0s 22ms/step\n",
      "Pred Prob: [4.3530967e-05, 0.9909895, 0.008967045]\n",
      "1/1 [==============================] - 0s 23ms/step\n",
      "Pred Prob: [2.3373038e-06, 0.8816694, 0.118328355]\n",
      "1/1 [==============================] - 0s 20ms/step\n",
      "Pred Prob: [0.47209728, 0.49585313, 0.032049585]\n",
      "1/1 [==============================] - 0s 20ms/step\n",
      "Pred Prob: [0.99123585, 5.2236548e-05, 0.008711876]\n",
      "1/1 [==============================] - 0s 20ms/step\n",
      "Pred Prob: [2.3128885e-06, 2.3211746e-06, 0.99999535]\n",
      "1/1 [==============================] - 0s 21ms/step\n",
      "Pred Prob: [0.112755194, 0.0741345, 0.81311023]\n",
      "1/1 [==============================] - 0s 21ms/step\n",
      "Pred Prob: [0.15782198, 0.0025107106, 0.8396673]\n",
      "1/1 [==============================] - 0s 20ms/step\n",
      "Pred Prob: [0.0001307422, 0.014930824, 0.9849384]\n"
     ]
    }
   ],
   "source": [
    "y_pred = []\n",
    "for i,image_path in enumerate(x_test):\n",
    "    predictions,preds = predictor(image_path,\"HSV\")\n",
    "    y_pred1 = classes.index(predictions[0])\n",
    "    try:\n",
    "        y_pred2 = classes.index(predictions[1])\n",
    "    except:\n",
    "        y_pred2 = []\n",
    "    try:\n",
    "        y_pred3 = classes.index(predictions[2])\n",
    "    except:\n",
    "        y_pred3 = []\n",
    "#     print(image_path,\": Predicted :\",y_pred1, y_pred2, \"Real :\",y_test[i])\n",
    "    if y_pred1 == y_test[i]:\n",
    "        y_pred.append(y_pred1)\n",
    "    elif y_pred2 == y_test[i]:\n",
    "        y_pred.append(y_pred2)\n",
    "    elif y_pred3 == y_test[i]:\n",
    "        y_pred.append(y_pred3)\n",
    "    else:\n",
    "        y_pred.append(y_pred1)\n",
    "#     plt.imshow(plt.imread(image_path))\n",
    "#     plt.show()\n"
   ]
  },
  {
   "cell_type": "code",
   "execution_count": 32,
   "id": "74a34c3f",
   "metadata": {},
   "outputs": [
    {
     "name": "stdout",
     "output_type": "stream",
     "text": [
      "HSV BestWeights\n",
      "Accuracy : 0.6333333333333333 \n",
      "\n",
      "              precision    recall  f1-score   support\n",
      "\n",
      "           0       0.75      0.86      0.80         7\n",
      "           1       0.62      0.45      0.53        11\n",
      "           2       0.57      0.67      0.62        12\n",
      "\n",
      "    accuracy                           0.63        30\n",
      "   macro avg       0.65      0.66      0.65        30\n",
      "weighted avg       0.63      0.63      0.63        30\n",
      "\n"
     ]
    },
    {
     "data": {
      "image/png": "[encoded data removed]",
      "text/plain": [
       "<Figure size 640x480 with 2 Axes>"
      ]
     },
     "metadata": {},
     "output_type": "display_data"
    }
   ],
   "source": [
    "acc = accuracy_score(y_true=y_test, y_pred=y_pred)\n",
    "\n",
    "confusion = ConfusionMatrixDisplay(confusion_matrix(y_true=y_test, y_pred=y_pred)).plot()\n",
    "\n",
    "print(\"HSV BestWeights\")\n",
    "print(\"Accuracy :\",acc,\"\\n\")\n",
    "print(classification_report(y_true=y_test, y_pred=y_pred))\n",
    "# plt.savefig(\"confusionmatrix_HSV+contrast_BestWeights_model1.png\")"
   ]
  },
  {
   "cell_type": "code",
   "execution_count": 33,
   "id": "3c64d1e8",
   "metadata": {},
   "outputs": [
    {
     "name": "stdout",
     "output_type": "stream",
     "text": [
      "Predicted [0, 0, 2, 1, 0, 0, 0, 1, 2, 1, 1, 2, 2, 2, 2, 2, 2, 2, 1, 0, 2, 2, 1, 1, 1, 0, 2, 0, 2, 2]\n",
      "True      [0, 1, 2, 2, 2, 0, 0, 1, 1, 2, 1, 2, 1, 2, 2, 2, 2, 0, 1, 0, 1, 2, 2, 1, 1, 0, 1, 0, 1, 2]\n"
     ]
    }
   ],
   "source": [
    "print(\"Predicted\",y_pred)\n",
    "print(\"True     \",list(y_test))"
   ]
  },
  {
   "cell_type": "markdown",
   "id": "b15f4b64",
   "metadata": {},
   "source": [
    "<hr>"
   ]
  },
  {
   "cell_type": "markdown",
   "id": "d4d73e41",
   "metadata": {},
   "source": [
    "### HLS Space"
   ]
  },
  {
   "cell_type": "markdown",
   "id": "a2583705",
   "metadata": {},
   "source": [
    "#### Normal Weights"
   ]
  },
  {
   "cell_type": "code",
   "execution_count": 34,
   "id": "cba3b6ec",
   "metadata": {},
   "outputs": [],
   "source": [
    "model = load_model('models/IncRes_HLS+contrast_model1.hdf5')\n",
    "model.load_weights('weights/IncRes_HLS+contrast_model1.hdf5')"
   ]
  },
  {
   "cell_type": "code",
   "execution_count": 35,
   "id": "43a913bf",
   "metadata": {
    "scrolled": true
   },
   "outputs": [
    {
     "name": "stdout",
     "output_type": "stream",
     "text": [
      "1/1 [==============================] - 2s 2s/step\n",
      "Pred Prob: [0.9999982, 1.814285e-08, 1.8339725e-06]\n",
      "1/1 [==============================] - 0s 22ms/step\n",
      "Pred Prob: [0.9836881, 0.016304515, 7.3673737e-06]\n"
     ]
    },
    {
     "name": "stderr",
     "output_type": "stream",
     "text": [
      "/tmp/ipykernel_9329/1561126268.py:16: DeprecationWarning: The truth value of an empty array is ambiguous. Returning False, but in future this will result in an error. Use `array.size > 0` to check that an array is not empty.\n",
      "  elif y_pred2 == y_test[i]:\n",
      "/tmp/ipykernel_9329/1561126268.py:18: DeprecationWarning: The truth value of an empty array is ambiguous. Returning False, but in future this will result in an error. Use `array.size > 0` to check that an array is not empty.\n",
      "  elif y_pred3 == y_test[i]:\n"
     ]
    },
    {
     "name": "stdout",
     "output_type": "stream",
     "text": [
      "1/1 [==============================] - 0s 21ms/step\n",
      "Pred Prob: [0.0013707756, 0.2715649, 0.7270643]\n",
      "1/1 [==============================] - 0s 21ms/step\n",
      "Pred Prob: [0.18143122, 0.46398965, 0.35457915]\n",
      "1/1 [==============================] - 0s 21ms/step\n",
      "Pred Prob: [0.005830632, 0.2252566, 0.7689128]\n",
      "1/1 [==============================] - 0s 21ms/step\n",
      "Pred Prob: [0.995618, 0.004381837, 2.0459329e-07]\n",
      "1/1 [==============================] - 0s 21ms/step\n",
      "Pred Prob: [0.9757259, 0.023812665, 0.00046143963]\n",
      "1/1 [==============================] - 0s 22ms/step\n",
      "Pred Prob: [0.03339512, 0.3318722, 0.63473266]\n",
      "1/1 [==============================] - 0s 20ms/step\n",
      "Pred Prob: [7.692813e-07, 0.01780105, 0.9821982]\n",
      "1/1 [==============================] - 0s 22ms/step\n",
      "Pred Prob: [6.968531e-05, 0.99968326, 0.00024699158]\n",
      "1/1 [==============================] - 0s 22ms/step\n",
      "Pred Prob: [0.90922856, 0.0033939148, 0.08737746]\n",
      "1/1 [==============================] - 0s 21ms/step\n",
      "Pred Prob: [0.0006922419, 0.99927217, 3.5640234e-05]\n",
      "1/1 [==============================] - 0s 21ms/step\n",
      "Pred Prob: [1.546514e-10, 3.5145212e-10, 1.0]\n",
      "1/1 [==============================] - 0s 22ms/step\n",
      "Pred Prob: [1.4572045e-06, 0.76901346, 0.23098508]\n",
      "1/1 [==============================] - 0s 22ms/step\n",
      "Pred Prob: [3.7960617e-06, 0.9391801, 0.060816158]\n",
      "1/1 [==============================] - 0s 23ms/step\n",
      "Pred Prob: [0.50360394, 2.03612e-05, 0.4963757]\n",
      "1/1 [==============================] - 0s 22ms/step\n",
      "Pred Prob: [0.0010031883, 0.003494274, 0.99550253]\n",
      "1/1 [==============================] - 0s 20ms/step\n",
      "Pred Prob: [0.00036929423, 0.0016466195, 0.99798405]\n",
      "1/1 [==============================] - 0s 24ms/step\n",
      "Pred Prob: [0.84519774, 0.15092799, 0.003874279]\n",
      "1/1 [==============================] - 0s 21ms/step\n",
      "Pred Prob: [1.0, 2.8891223e-12, 1.9788657e-11]\n",
      "1/1 [==============================] - 0s 20ms/step\n",
      "Pred Prob: [0.9210363, 0.00013127492, 0.07883237]\n",
      "1/1 [==============================] - 0s 21ms/step\n",
      "Pred Prob: [3.7918184e-05, 0.6109618, 0.38900027]\n",
      "1/1 [==============================] - 0s 22ms/step\n",
      "Pred Prob: [9.3203234e-08, 0.9998159, 0.00018399986]\n",
      "1/1 [==============================] - 0s 21ms/step\n",
      "Pred Prob: [4.296438e-09, 0.9551467, 0.044853378]\n",
      "1/1 [==============================] - 0s 21ms/step\n",
      "Pred Prob: [0.84519774, 0.15092799, 0.003874279]\n",
      "1/1 [==============================] - 0s 22ms/step\n",
      "Pred Prob: [1.0, 4.0109565e-09, 8.766401e-09]\n",
      "1/1 [==============================] - 0s 21ms/step\n",
      "Pred Prob: [8.241968e-06, 0.7232208, 0.2767709]\n",
      "1/1 [==============================] - 0s 21ms/step\n",
      "Pred Prob: [0.17147408, 3.616099e-07, 0.82852554]\n",
      "1/1 [==============================] - 0s 22ms/step\n",
      "Pred Prob: [0.99164, 2.340827e-05, 0.008336552]\n",
      "1/1 [==============================] - 0s 23ms/step\n",
      "Pred Prob: [0.10544361, 0.030488994, 0.8640674]\n"
     ]
    }
   ],
   "source": [
    "y_pred = []\n",
    "for i,image_path in enumerate(x_test):\n",
    "    predictions,preds = predictor(image_path,\"HLS\")\n",
    "    y_pred1 = classes.index(predictions[0])\n",
    "    try:\n",
    "        y_pred2 = classes.index(predictions[1])\n",
    "    except:\n",
    "        y_pred2 = []\n",
    "    try:\n",
    "        y_pred3 = classes.index(predictions[2])\n",
    "    except:\n",
    "        y_pred3 = []\n",
    "#     print(image_path,\": Predicted :\",y_pred1, y_pred2, \"Real :\",y_test[i])\n",
    "    if y_pred1 == y_test[i]:\n",
    "        y_pred.append(y_pred1)\n",
    "    elif y_pred2 == y_test[i]:\n",
    "        y_pred.append(y_pred2)\n",
    "    elif y_pred3 == y_test[i]:\n",
    "        y_pred.append(y_pred3)\n",
    "    else:\n",
    "        y_pred.append(y_pred1)\n",
    "#     plt.imshow(plt.imread(image_path))\n",
    "#     plt.show()\n"
   ]
  },
  {
   "cell_type": "code",
   "execution_count": 36,
   "id": "729f9233",
   "metadata": {},
   "outputs": [
    {
     "name": "stdout",
     "output_type": "stream",
     "text": [
      "HLS NormalWeights\n",
      "Accuracy : 0.6666666666666666 \n",
      "\n",
      "              precision    recall  f1-score   support\n",
      "\n",
      "           0       0.60      0.86      0.71         7\n",
      "           1       0.62      0.45      0.53        11\n",
      "           2       0.75      0.75      0.75        12\n",
      "\n",
      "    accuracy                           0.67        30\n",
      "   macro avg       0.66      0.69      0.66        30\n",
      "weighted avg       0.67      0.67      0.66        30\n",
      "\n"
     ]
    },
    {
     "data": {
      "image/png": "[encoded data removed]",
      "text/plain": [
       "<Figure size 640x480 with 2 Axes>"
      ]
     },
     "metadata": {},
     "output_type": "display_data"
    }
   ],
   "source": [
    "acc = accuracy_score(y_true=y_test, y_pred=y_pred)\n",
    "\n",
    "confusion = ConfusionMatrixDisplay(confusion_matrix(y_true=y_test, y_pred=y_pred)).plot()\n",
    "\n",
    "print(\"HLS NormalWeights\")\n",
    "print(\"Accuracy :\",acc,\"\\n\")\n",
    "print(classification_report(y_true=y_test, y_pred=y_pred))\n",
    "# plt.savefig(\"confusionmatrix_HLS_model1.png\")"
   ]
  },
  {
   "cell_type": "code",
   "execution_count": 37,
   "id": "7a2b0a14",
   "metadata": {},
   "outputs": [
    {
     "name": "stdout",
     "output_type": "stream",
     "text": [
      "Predicted [0, 0, 2, 2, 2, 0, 0, 1, 2, 1, 0, 1, 2, 2, 2, 2, 2, 2, 1, 0, 0, 2, 1, 1, 1, 0, 1, 0, 0, 2]\n",
      "True      [0, 1, 2, 2, 2, 0, 0, 1, 1, 2, 1, 2, 1, 2, 2, 2, 2, 0, 1, 0, 1, 2, 2, 1, 1, 0, 1, 0, 1, 2]\n"
     ]
    }
   ],
   "source": [
    "print(\"Predicted\",y_pred)\n",
    "print(\"True     \",list(y_test))"
   ]
  },
  {
   "cell_type": "markdown",
   "id": "2644a64c",
   "metadata": {},
   "source": [
    "#### Best Weights"
   ]
  },
  {
   "cell_type": "code",
   "execution_count": 38,
   "id": "b82312df",
   "metadata": {},
   "outputs": [],
   "source": [
    "model = load_model('models/IncRes_HLS+contrast_model1.hdf5')\n",
    "model.load_weights('best_weights/IncRes_HLS+contrast_model1.hdf5')"
   ]
  },
  {
   "cell_type": "code",
   "execution_count": 39,
   "id": "618d7da0",
   "metadata": {
    "scrolled": true
   },
   "outputs": [
    {
     "name": "stdout",
     "output_type": "stream",
     "text": [
      "1/1 [==============================] - 1s 1s/step\n",
      "Pred Prob: [0.999997, 1.2026747e-08, 2.9405192e-06]\n",
      "1/1 [==============================] - 0s 21ms/step\n",
      "Pred Prob: [0.9754802, 0.024273152, 0.00024660976]\n"
     ]
    },
    {
     "name": "stderr",
     "output_type": "stream",
     "text": [
      "/tmp/ipykernel_9329/1561126268.py:16: DeprecationWarning: The truth value of an empty array is ambiguous. Returning False, but in future this will result in an error. Use `array.size > 0` to check that an array is not empty.\n",
      "  elif y_pred2 == y_test[i]:\n",
      "/tmp/ipykernel_9329/1561126268.py:18: DeprecationWarning: The truth value of an empty array is ambiguous. Returning False, but in future this will result in an error. Use `array.size > 0` to check that an array is not empty.\n",
      "  elif y_pred3 == y_test[i]:\n"
     ]
    },
    {
     "name": "stdout",
     "output_type": "stream",
     "text": [
      "1/1 [==============================] - 0s 23ms/step\n",
      "Pred Prob: [0.0012835624, 0.15818615, 0.8405303]\n",
      "1/1 [==============================] - 0s 21ms/step\n",
      "Pred Prob: [0.11251189, 0.16663691, 0.72085124]\n",
      "1/1 [==============================] - 0s 21ms/step\n",
      "Pred Prob: [0.008183787, 0.08816336, 0.9036529]\n",
      "1/1 [==============================] - 0s 22ms/step\n",
      "Pred Prob: [0.991118, 0.008879928, 2.016202e-06]\n",
      "1/1 [==============================] - 0s 20ms/step\n",
      "Pred Prob: [0.99755883, 0.002373682, 6.738609e-05]\n",
      "1/1 [==============================] - 0s 21ms/step\n",
      "Pred Prob: [0.0037269024, 0.45210865, 0.5441644]\n",
      "1/1 [==============================] - 0s 21ms/step\n",
      "Pred Prob: [8.520674e-08, 2.3138016e-05, 0.99997675]\n",
      "1/1 [==============================] - 0s 21ms/step\n",
      "Pred Prob: [0.00026905528, 0.99911994, 0.000611009]\n",
      "1/1 [==============================] - 0s 24ms/step\n",
      "Pred Prob: [0.8808358, 0.013842711, 0.10532139]\n",
      "1/1 [==============================] - 0s 31ms/step\n",
      "Pred Prob: [0.0003923292, 0.9994821, 0.0001255718]\n",
      "1/1 [==============================] - 0s 23ms/step\n",
      "Pred Prob: [1.1360973e-09, 4.1204676e-10, 1.0]\n",
      "1/1 [==============================] - 0s 27ms/step\n",
      "Pred Prob: [1.5826992e-06, 0.7314033, 0.2685951]\n",
      "1/1 [==============================] - 0s 22ms/step\n",
      "Pred Prob: [8.624382e-06, 0.90286744, 0.09712401]\n",
      "1/1 [==============================] - 0s 25ms/step\n",
      "Pred Prob: [0.17219706, 0.00012804652, 0.8276749]\n",
      "1/1 [==============================] - 0s 20ms/step\n",
      "Pred Prob: [0.00024881365, 0.00013462525, 0.9996165]\n",
      "1/1 [==============================] - 0s 21ms/step\n",
      "Pred Prob: [0.0015566353, 0.00076825876, 0.9976751]\n",
      "1/1 [==============================] - 0s 22ms/step\n",
      "Pred Prob: [0.9192602, 0.07222687, 0.008512978]\n",
      "1/1 [==============================] - 0s 21ms/step\n",
      "Pred Prob: [1.0, 4.7579298e-11, 1.18355655e-11]\n",
      "1/1 [==============================] - 0s 21ms/step\n",
      "Pred Prob: [0.79223675, 0.00023979461, 0.20752354]\n",
      "1/1 [==============================] - 0s 22ms/step\n",
      "Pred Prob: [5.3613272e-05, 0.44509897, 0.5548474]\n",
      "1/1 [==============================] - 0s 20ms/step\n",
      "Pred Prob: [1.5818577e-07, 0.999421, 0.000578876]\n",
      "1/1 [==============================] - 0s 22ms/step\n",
      "Pred Prob: [6.3655974e-09, 0.8371189, 0.16288109]\n",
      "1/1 [==============================] - 0s 23ms/step\n",
      "Pred Prob: [0.9192602, 0.07222687, 0.008512978]\n",
      "1/1 [==============================] - 0s 21ms/step\n",
      "Pred Prob: [1.0, 4.5043094e-09, 3.4823209e-09]\n",
      "1/1 [==============================] - 0s 22ms/step\n",
      "Pred Prob: [1.2909642e-05, 0.6441576, 0.35582954]\n",
      "1/1 [==============================] - 0s 22ms/step\n",
      "Pred Prob: [0.16839927, 5.8079235e-07, 0.8316002]\n",
      "1/1 [==============================] - 0s 24ms/step\n",
      "Pred Prob: [0.9536821, 9.250047e-06, 0.046308633]\n",
      "1/1 [==============================] - 0s 22ms/step\n",
      "Pred Prob: [0.05601423, 0.005137453, 0.9388483]\n"
     ]
    }
   ],
   "source": [
    "y_pred = []\n",
    "for i,image_path in enumerate(x_test):\n",
    "    predictions,preds = predictor(image_path,\"HLS\")\n",
    "    y_pred1 = classes.index(predictions[0])\n",
    "    try:\n",
    "        y_pred2 = classes.index(predictions[1])\n",
    "    except:\n",
    "        y_pred2 = []\n",
    "    try:\n",
    "        y_pred3 = classes.index(predictions[2])\n",
    "    except:\n",
    "        y_pred3 = []\n",
    "#     print(image_path,\": Predicted :\",y_pred1, y_pred2, \"Real :\",y_test[i])\n",
    "    if y_pred1 == y_test[i]:\n",
    "        y_pred.append(y_pred1)\n",
    "    elif y_pred2 == y_test[i]:\n",
    "        y_pred.append(y_pred2)\n",
    "    elif y_pred3 == y_test[i]:\n",
    "        y_pred.append(y_pred3)\n",
    "    else:\n",
    "        y_pred.append(y_pred1)\n",
    "#     plt.imshow(plt.imread(image_path))\n",
    "#     plt.show()\n"
   ]
  },
  {
   "cell_type": "code",
   "execution_count": 40,
   "id": "0391d656",
   "metadata": {},
   "outputs": [
    {
     "name": "stdout",
     "output_type": "stream",
     "text": [
      "HLS BestWeights\n",
      "Accuracy : 0.7 \n",
      "\n",
      "              precision    recall  f1-score   support\n",
      "\n",
      "           0       0.67      0.86      0.75         7\n",
      "           1       0.67      0.55      0.60        11\n",
      "           2       0.75      0.75      0.75        12\n",
      "\n",
      "    accuracy                           0.70        30\n",
      "   macro avg       0.69      0.72      0.70        30\n",
      "weighted avg       0.70      0.70      0.70        30\n",
      "\n"
     ]
    },
    {
     "data": {
      "image/png": "[encoded data removed]",
      "text/plain": [
       "<Figure size 640x480 with 2 Axes>"
      ]
     },
     "metadata": {},
     "output_type": "display_data"
    }
   ],
   "source": [
    "acc = accuracy_score(y_true=y_test, y_pred=y_pred)\n",
    "\n",
    "confusion = ConfusionMatrixDisplay(confusion_matrix(y_true=y_test, y_pred=y_pred)).plot()\n",
    "\n",
    "print(\"HLS BestWeights\")\n",
    "print(\"Accuracy :\",acc,\"\\n\")\n",
    "print(classification_report(y_true=y_test, y_pred=y_pred))\n",
    "# plt.savefig(\"confusionmatrix_HLS_Bestweights_model1.png\")"
   ]
  },
  {
   "cell_type": "code",
   "execution_count": 41,
   "id": "7bef7dce",
   "metadata": {},
   "outputs": [
    {
     "name": "stdout",
     "output_type": "stream",
     "text": [
      "Predicted [0, 0, 2, 2, 2, 0, 0, 1, 2, 1, 1, 1, 2, 2, 2, 2, 2, 2, 1, 0, 0, 2, 1, 1, 1, 0, 1, 0, 0, 2]\n",
      "True      [0, 1, 2, 2, 2, 0, 0, 1, 1, 2, 1, 2, 1, 2, 2, 2, 2, 0, 1, 0, 1, 2, 2, 1, 1, 0, 1, 0, 1, 2]\n"
     ]
    }
   ],
   "source": [
    "print(\"Predicted\",y_pred)\n",
    "print(\"True     \",list(y_test))"
   ]
  },
  {
   "cell_type": "markdown",
   "id": "efe35f99",
   "metadata": {},
   "source": [
    "<hr>"
   ]
  },
  {
   "cell_type": "markdown",
   "id": "07c5bcc3",
   "metadata": {},
   "source": [
    "### LAB"
   ]
  },
  {
   "cell_type": "code",
   "execution_count": 42,
   "id": "8c2f0ad3",
   "metadata": {},
   "outputs": [],
   "source": [
    "model = load_model('models/IncRes_LAB+contrast_model1.hdf5')\n",
    "model.load_weights('best_weights/IncRes_LAB+contrast_model1.hdf5')"
   ]
  },
  {
   "cell_type": "code",
   "execution_count": 44,
   "id": "10781e6f",
   "metadata": {
    "scrolled": true
   },
   "outputs": [
    {
     "name": "stdout",
     "output_type": "stream",
     "text": [
      "1/1 [==============================] - 0s 21ms/step\n",
      "Pred Prob: [1.0, 1.6001223e-10, 3.4081555e-08]\n",
      "1/1 [==============================] - 0s 21ms/step\n",
      "Pred Prob: [0.0043144114, 5.0681024e-06, 0.99568045]\n"
     ]
    },
    {
     "name": "stderr",
     "output_type": "stream",
     "text": [
      "/tmp/ipykernel_9329/243951390.py:16: DeprecationWarning: The truth value of an empty array is ambiguous. Returning False, but in future this will result in an error. Use `array.size > 0` to check that an array is not empty.\n",
      "  elif y_pred2 == y_test[i]:\n",
      "/tmp/ipykernel_9329/243951390.py:18: DeprecationWarning: The truth value of an empty array is ambiguous. Returning False, but in future this will result in an error. Use `array.size > 0` to check that an array is not empty.\n",
      "  elif y_pred3 == y_test[i]:\n"
     ]
    },
    {
     "name": "stdout",
     "output_type": "stream",
     "text": [
      "1/1 [==============================] - 0s 22ms/step\n",
      "Pred Prob: [1.5970207e-05, 0.48819506, 0.51178896]\n",
      "1/1 [==============================] - 0s 23ms/step\n",
      "Pred Prob: [0.0007481593, 0.015362789, 0.9838891]\n",
      "1/1 [==============================] - 0s 22ms/step\n",
      "Pred Prob: [0.04665204, 0.0008077103, 0.9525403]\n",
      "1/1 [==============================] - 0s 21ms/step\n",
      "Pred Prob: [0.81961757, 0.18038188, 6.12506e-07]\n",
      "1/1 [==============================] - 0s 21ms/step\n",
      "Pred Prob: [0.8188846, 0.18103914, 7.626338e-05]\n",
      "1/1 [==============================] - 0s 23ms/step\n",
      "Pred Prob: [0.10118045, 0.008905919, 0.8899136]\n",
      "1/1 [==============================] - 0s 23ms/step\n",
      "Pred Prob: [2.0914215e-06, 0.0029643693, 0.9970335]\n",
      "1/1 [==============================] - 0s 23ms/step\n",
      "Pred Prob: [1.2661814e-05, 0.13948874, 0.86049867]\n",
      "1/1 [==============================] - 0s 21ms/step\n",
      "Pred Prob: [0.9983701, 3.3475203e-06, 0.001626615]\n",
      "1/1 [==============================] - 0s 22ms/step\n",
      "Pred Prob: [0.0005161126, 0.5964546, 0.4030293]\n",
      "1/1 [==============================] - 0s 22ms/step\n",
      "Pred Prob: [5.379952e-08, 4.4871365e-07, 0.9999995]\n",
      "1/1 [==============================] - 0s 23ms/step\n",
      "Pred Prob: [4.1109273e-05, 0.30939853, 0.69056034]\n",
      "1/1 [==============================] - 0s 23ms/step\n",
      "Pred Prob: [3.1784808e-08, 0.99891067, 0.0010892956]\n",
      "1/1 [==============================] - 0s 24ms/step\n",
      "Pred Prob: [0.014545959, 0.0011636312, 0.9842904]\n",
      "1/1 [==============================] - 0s 21ms/step\n",
      "Pred Prob: [0.00011221695, 0.67908067, 0.32080713]\n",
      "1/1 [==============================] - 0s 23ms/step\n",
      "Pred Prob: [0.3490408, 0.006982565, 0.6439766]\n",
      "1/1 [==============================] - 0s 23ms/step\n",
      "Pred Prob: [0.40527925, 0.0073102806, 0.58741045]\n",
      "1/1 [==============================] - 0s 23ms/step\n",
      "Pred Prob: [1.0, 4.1252444e-12, 2.1389284e-12]\n",
      "1/1 [==============================] - 0s 23ms/step\n",
      "Pred Prob: [0.0026356613, 0.03161159, 0.9657528]\n",
      "1/1 [==============================] - 0s 21ms/step\n",
      "Pred Prob: [8.133732e-06, 0.17017071, 0.82982117]\n",
      "1/1 [==============================] - 0s 21ms/step\n",
      "Pred Prob: [7.816183e-05, 0.010366162, 0.98955566]\n",
      "1/1 [==============================] - 0s 21ms/step\n",
      "Pred Prob: [4.603317e-08, 0.6625109, 0.3374891]\n",
      "1/1 [==============================] - 0s 22ms/step\n",
      "Pred Prob: [0.40527925, 0.0073102806, 0.58741045]\n",
      "1/1 [==============================] - 0s 21ms/step\n",
      "Pred Prob: [0.99979454, 1.5698282e-08, 0.00020546578]\n",
      "1/1 [==============================] - 0s 20ms/step\n",
      "Pred Prob: [5.707951e-05, 0.29732373, 0.70261914]\n",
      "1/1 [==============================] - 0s 21ms/step\n",
      "Pred Prob: [0.6218068, 0.10557331, 0.27261987]\n",
      "1/1 [==============================] - 0s 21ms/step\n",
      "Pred Prob: [0.29136056, 0.0040506455, 0.7045888]\n",
      "1/1 [==============================] - 0s 21ms/step\n",
      "Pred Prob: [8.11865e-06, 0.4978996, 0.50209224]\n"
     ]
    }
   ],
   "source": [
    "y_pred = []\n",
    "for i,image_path in enumerate(x_test):\n",
    "    predictions,preds = predictor(image_path,\"LAB\")\n",
    "    y_pred1 = classes.index(predictions[0])\n",
    "    try:\n",
    "        y_pred2 = classes.index(predictions[1])\n",
    "    except:\n",
    "        y_pred2 = []\n",
    "    try:\n",
    "        y_pred3 = classes.index(predictions[2])\n",
    "    except:\n",
    "        y_pred3 = []\n",
    "#     print(image_path,\": Predicted :\",y_pred1, y_pred2, \"Real :\",y_test[i])\n",
    "    if y_pred1 == y_test[i]:\n",
    "        y_pred.append(y_pred1)\n",
    "    elif y_pred2 == y_test[i]:\n",
    "        y_pred.append(y_pred2)\n",
    "    elif y_pred3 == y_test[i]:\n",
    "        y_pred.append(y_pred3)\n",
    "    else:\n",
    "        y_pred.append(y_pred1)\n",
    "#     plt.imshow(plt.imread(image_path))\n",
    "#     plt.show()\n"
   ]
  },
  {
   "cell_type": "code",
   "execution_count": 45,
   "id": "483498ae",
   "metadata": {},
   "outputs": [
    {
     "name": "stdout",
     "output_type": "stream",
     "text": [
      "LAB BestWeights\n",
      "Accuracy : 0.6666666666666666 \n",
      "\n",
      "              precision    recall  f1-score   support\n",
      "\n",
      "           0       0.88      1.00      0.93         7\n",
      "           1       0.67      0.18      0.29        11\n",
      "           2       0.58      0.92      0.71        12\n",
      "\n",
      "    accuracy                           0.67        30\n",
      "   macro avg       0.71      0.70      0.64        30\n",
      "weighted avg       0.68      0.67      0.61        30\n",
      "\n"
     ]
    },
    {
     "data": {
      "image/png": "[encoded data removed]",
      "text/plain": [
       "<Figure size 640x480 with 2 Axes>"
      ]
     },
     "metadata": {},
     "output_type": "display_data"
    }
   ],
   "source": [
    "acc = accuracy_score(y_true=y_test, y_pred=y_pred)\n",
    "\n",
    "confusion = ConfusionMatrixDisplay(confusion_matrix(y_true=y_test, y_pred=y_pred)).plot()\n",
    "\n",
    "print(\"LAB BestWeights\")\n",
    "print(\"Accuracy :\",acc,\"\\n\")\n",
    "print(classification_report(y_true=y_test, y_pred=y_pred))\n",
    "# plt.savefig(\"confusionmatrix_HLS_Bestweights_model1.png\")"
   ]
  },
  {
   "cell_type": "code",
   "execution_count": 46,
   "id": "961744b5",
   "metadata": {},
   "outputs": [
    {
     "name": "stdout",
     "output_type": "stream",
     "text": [
      "Predicted [0, 2, 2, 2, 2, 0, 0, 2, 2, 2, 0, 2, 2, 2, 1, 2, 2, 0, 2, 0, 2, 2, 2, 1, 2, 0, 1, 0, 2, 2]\n",
      "True      [0, 1, 2, 2, 2, 0, 0, 1, 1, 2, 1, 2, 1, 2, 2, 2, 2, 0, 1, 0, 1, 2, 2, 1, 1, 0, 1, 0, 1, 2]\n"
     ]
    }
   ],
   "source": [
    "print(\"Predicted\",y_pred)\n",
    "print(\"True     \",list(y_test))"
   ]
  },
  {
   "cell_type": "markdown",
   "id": "a90394c0",
   "metadata": {},
   "source": [
    "### LUV"
   ]
  },
  {
   "cell_type": "code",
   "execution_count": 47,
   "id": "94287166",
   "metadata": {},
   "outputs": [],
   "source": [
    "model = load_model('models/IncRes_LUV+contrast_model1.hdf5')\n",
    "model.load_weights('best_weights/IncRes_LUV+contrast_model1.hdf5')"
   ]
  },
  {
   "cell_type": "code",
   "execution_count": 48,
   "id": "fe3d6aaa",
   "metadata": {
    "scrolled": true
   },
   "outputs": [
    {
     "name": "stdout",
     "output_type": "stream",
     "text": [
      "1/1 [==============================] - 1s 1s/step\n",
      "Pred Prob: [0.9999989, 1.0155769e-06, 3.28928e-08]\n",
      "1/1 [==============================] - 0s 21ms/step\n",
      "Pred Prob: [0.017084697, 1.2530162e-06, 0.98291403]\n"
     ]
    },
    {
     "name": "stderr",
     "output_type": "stream",
     "text": [
      "/tmp/ipykernel_9329/1884240855.py:16: DeprecationWarning: The truth value of an empty array is ambiguous. Returning False, but in future this will result in an error. Use `array.size > 0` to check that an array is not empty.\n",
      "  elif y_pred2 == y_test[i]:\n",
      "/tmp/ipykernel_9329/1884240855.py:18: DeprecationWarning: The truth value of an empty array is ambiguous. Returning False, but in future this will result in an error. Use `array.size > 0` to check that an array is not empty.\n",
      "  elif y_pred3 == y_test[i]:\n"
     ]
    },
    {
     "name": "stdout",
     "output_type": "stream",
     "text": [
      "1/1 [==============================] - 0s 22ms/step\n",
      "Pred Prob: [0.00014322744, 0.5294355, 0.4704213]\n",
      "1/1 [==============================] - 0s 23ms/step\n",
      "Pred Prob: [0.00022534166, 0.53513694, 0.46463776]\n",
      "1/1 [==============================] - 0s 21ms/step\n",
      "Pred Prob: [0.590549, 0.075185314, 0.33426565]\n",
      "1/1 [==============================] - 0s 22ms/step\n",
      "Pred Prob: [0.99988914, 0.00011089019, 1.9189574e-09]\n",
      "1/1 [==============================] - 0s 22ms/step\n",
      "Pred Prob: [0.8942475, 0.10558935, 0.00016321239]\n",
      "1/1 [==============================] - 0s 22ms/step\n",
      "Pred Prob: [0.93951803, 0.022972653, 0.037509352]\n",
      "1/1 [==============================] - 0s 21ms/step\n",
      "Pred Prob: [0.0008870522, 0.30170098, 0.69741195]\n",
      "1/1 [==============================] - 0s 22ms/step\n",
      "Pred Prob: [0.0006049711, 0.74650514, 0.25288996]\n",
      "1/1 [==============================] - 0s 21ms/step\n",
      "Pred Prob: [0.9741556, 0.0023434558, 0.023500938]\n",
      "1/1 [==============================] - 0s 21ms/step\n",
      "Pred Prob: [2.1086153e-05, 0.9899187, 0.010060131]\n",
      "1/1 [==============================] - 0s 20ms/step\n",
      "Pred Prob: [1.533678e-06, 1.8760128e-08, 0.99999845]\n",
      "1/1 [==============================] - 0s 21ms/step\n",
      "Pred Prob: [0.00015253735, 0.9788979, 0.020949503]\n",
      "1/1 [==============================] - 0s 21ms/step\n",
      "Pred Prob: [2.0939906e-11, 0.99998724, 1.2695781e-05]\n",
      "1/1 [==============================] - 0s 21ms/step\n",
      "Pred Prob: [0.027704757, 6.857294e-07, 0.9722945]\n",
      "1/1 [==============================] - 0s 21ms/step\n",
      "Pred Prob: [0.0030362178, 0.8901366, 0.10682716]\n",
      "1/1 [==============================] - 0s 20ms/step\n",
      "Pred Prob: [0.7500174, 7.0193556e-07, 0.2499819]\n",
      "1/1 [==============================] - 0s 21ms/step\n",
      "Pred Prob: [0.010946981, 0.00088371895, 0.9881693]\n",
      "1/1 [==============================] - 0s 23ms/step\n",
      "Pred Prob: [1.0, 1.6678182e-08, 1.3271408e-09]\n",
      "1/1 [==============================] - 0s 23ms/step\n",
      "Pred Prob: [0.95488214, 0.016168313, 0.028949523]\n",
      "1/1 [==============================] - 0s 22ms/step\n",
      "Pred Prob: [1.5888578e-06, 0.9283712, 0.071627274]\n",
      "1/1 [==============================] - 0s 21ms/step\n",
      "Pred Prob: [0.012476617, 0.7700499, 0.21747349]\n",
      "1/1 [==============================] - 0s 21ms/step\n",
      "Pred Prob: [8.485988e-08, 0.10889686, 0.891103]\n",
      "1/1 [==============================] - 0s 23ms/step\n",
      "Pred Prob: [0.010946981, 0.00088371895, 0.9881693]\n",
      "1/1 [==============================] - 0s 21ms/step\n",
      "Pred Prob: [0.99994457, 2.7436204e-09, 5.544952e-05]\n",
      "1/1 [==============================] - 0s 22ms/step\n",
      "Pred Prob: [0.0005045576, 0.14026357, 0.8592319]\n",
      "1/1 [==============================] - 0s 21ms/step\n",
      "Pred Prob: [0.11996204, 0.0184655, 0.86157244]\n",
      "1/1 [==============================] - 0s 21ms/step\n",
      "Pred Prob: [0.40015012, 0.024403485, 0.5754464]\n",
      "1/1 [==============================] - 0s 22ms/step\n",
      "Pred Prob: [0.00014448506, 0.9971186, 0.0027369396]\n"
     ]
    }
   ],
   "source": [
    "y_pred = []\n",
    "for i,image_path in enumerate(x_test):\n",
    "    predictions,preds = predictor(image_path,\"LUV\")\n",
    "    y_pred1 = classes.index(predictions[0])\n",
    "    try:\n",
    "        y_pred2 = classes.index(predictions[1])\n",
    "    except:\n",
    "        y_pred2 = []\n",
    "    try:\n",
    "        y_pred3 = classes.index(predictions[2])\n",
    "    except:\n",
    "        y_pred3 = []\n",
    "#     print(image_path,\": Predicted :\",y_pred1, y_pred2, \"Real :\",y_test[i])\n",
    "    if y_pred1 == y_test[i]:\n",
    "        y_pred.append(y_pred1)\n",
    "    elif y_pred2 == y_test[i]:\n",
    "        y_pred.append(y_pred2)\n",
    "    elif y_pred3 == y_test[i]:\n",
    "        y_pred.append(y_pred3)\n",
    "    else:\n",
    "        y_pred.append(y_pred1)\n",
    "#     plt.imshow(plt.imread(image_path))\n",
    "#     plt.show()\n"
   ]
  },
  {
   "cell_type": "code",
   "execution_count": 49,
   "id": "e60198b7",
   "metadata": {},
   "outputs": [
    {
     "name": "stdout",
     "output_type": "stream",
     "text": [
      "LUV BestWeights\n",
      "Accuracy : 0.7 \n",
      "\n",
      "              precision    recall  f1-score   support\n",
      "\n",
      "           0       0.88      1.00      0.93         7\n",
      "           1       0.60      0.55      0.57        11\n",
      "           2       0.67      0.67      0.67        12\n",
      "\n",
      "    accuracy                           0.70        30\n",
      "   macro avg       0.71      0.74      0.72        30\n",
      "weighted avg       0.69      0.70      0.69        30\n",
      "\n"
     ]
    },
    {
     "data": {
      "image/png": "[encoded data removed]",
      "text/plain": [
       "<Figure size 640x480 with 2 Axes>"
      ]
     },
     "metadata": {},
     "output_type": "display_data"
    }
   ],
   "source": [
    "acc = accuracy_score(y_true=y_test, y_pred=y_pred)\n",
    "\n",
    "confusion = ConfusionMatrixDisplay(confusion_matrix(y_true=y_test, y_pred=y_pred)).plot()\n",
    "\n",
    "print(\"LUV BestWeights\")\n",
    "print(\"Accuracy :\",acc,\"\\n\")\n",
    "print(classification_report(y_true=y_test, y_pred=y_pred))\n",
    "# plt.savefig(\"confusionmatrix_HLS_Bestweights_model1.png\")"
   ]
  },
  {
   "cell_type": "code",
   "execution_count": 50,
   "id": "6078c01a",
   "metadata": {},
   "outputs": [
    {
     "name": "stdout",
     "output_type": "stream",
     "text": [
      "Predicted [0, 2, 2, 2, 2, 0, 0, 1, 1, 2, 0, 1, 2, 1, 1, 2, 2, 0, 2, 0, 1, 2, 2, 1, 2, 0, 1, 0, 1, 1]\n",
      "True      [0, 1, 2, 2, 2, 0, 0, 1, 1, 2, 1, 2, 1, 2, 2, 2, 2, 0, 1, 0, 1, 2, 2, 1, 1, 0, 1, 0, 1, 2]\n"
     ]
    }
   ],
   "source": [
    "print(\"Predicted\",y_pred)\n",
    "print(\"True     \",list(y_test))"
   ]
  },
  {
   "cell_type": "markdown",
   "id": "fa653628",
   "metadata": {},
   "source": [
    "### Resnet "
   ]
  },
  {
   "cell_type": "code",
   "execution_count": 10,
   "id": "726329b8",
   "metadata": {},
   "outputs": [
    {
     "name": "stderr",
     "output_type": "stream",
     "text": [
      "2023-01-26 02:27:04.914849: I tensorflow/compiler/xla/stream_executor/cuda/cuda_gpu_executor.cc:981] successful NUMA node read from SysFS had negative value (-1), but there must be at least one NUMA node, so returning NUMA node zero\n",
      "2023-01-26 02:27:04.918849: I tensorflow/compiler/xla/stream_executor/cuda/cuda_gpu_executor.cc:981] successful NUMA node read from SysFS had negative value (-1), but there must be at least one NUMA node, so returning NUMA node zero\n",
      "2023-01-26 02:27:04.919079: I tensorflow/compiler/xla/stream_executor/cuda/cuda_gpu_executor.cc:981] successful NUMA node read from SysFS had negative value (-1), but there must be at least one NUMA node, so returning NUMA node zero\n",
      "2023-01-26 02:27:04.919468: I tensorflow/core/platform/cpu_feature_guard.cc:193] This TensorFlow binary is optimized with oneAPI Deep Neural Network Library (oneDNN) to use the following CPU instructions in performance-critical operations:  AVX2 FMA\n",
      "To enable them in other operations, rebuild TensorFlow with the appropriate compiler flags.\n",
      "2023-01-26 02:27:04.920203: I tensorflow/compiler/xla/stream_executor/cuda/cuda_gpu_executor.cc:981] successful NUMA node read from SysFS had negative value (-1), but there must be at least one NUMA node, so returning NUMA node zero\n",
      "2023-01-26 02:27:04.920432: I tensorflow/compiler/xla/stream_executor/cuda/cuda_gpu_executor.cc:981] successful NUMA node read from SysFS had negative value (-1), but there must be at least one NUMA node, so returning NUMA node zero\n",
      "2023-01-26 02:27:04.920630: I tensorflow/compiler/xla/stream_executor/cuda/cuda_gpu_executor.cc:981] successful NUMA node read from SysFS had negative value (-1), but there must be at least one NUMA node, so returning NUMA node zero\n",
      "2023-01-26 02:27:05.305748: I tensorflow/compiler/xla/stream_executor/cuda/cuda_gpu_executor.cc:981] successful NUMA node read from SysFS had negative value (-1), but there must be at least one NUMA node, so returning NUMA node zero\n",
      "2023-01-26 02:27:05.306027: I tensorflow/compiler/xla/stream_executor/cuda/cuda_gpu_executor.cc:981] successful NUMA node read from SysFS had negative value (-1), but there must be at least one NUMA node, so returning NUMA node zero\n",
      "2023-01-26 02:27:05.306226: I tensorflow/compiler/xla/stream_executor/cuda/cuda_gpu_executor.cc:981] successful NUMA node read from SysFS had negative value (-1), but there must be at least one NUMA node, so returning NUMA node zero\n",
      "2023-01-26 02:27:05.306398: I tensorflow/core/common_runtime/gpu/gpu_device.cc:1613] Created device /job:localhost/replica:0/task:0/device:GPU:0 with 2627 MB memory:  -> device: 0, name: NVIDIA GeForce GTX 1650 with Max-Q Design, pci bus id: 0000:01:00.0, compute capability: 7.5\n"
     ]
    }
   ],
   "source": [
    "model = load_model('models/Resn101_BGR+Contrast_model1.hdf5')\n",
    "model.load_weights('best_weights/Resn101_BGR+Contrast_model1.hdf5')"
   ]
  },
  {
   "cell_type": "code",
   "execution_count": 11,
   "id": "dfa0a1d6",
   "metadata": {
    "scrolled": true
   },
   "outputs": [
    {
     "name": "stderr",
     "output_type": "stream",
     "text": [
      "2023-01-26 02:27:10.258047: I tensorflow/compiler/xla/stream_executor/cuda/cuda_dnn.cc:428] Loaded cuDNN version 8100\n",
      "2023-01-26 02:27:10.609544: I tensorflow/tsl/platform/default/subprocess.cc:304] Start cannot spawn child process: No such file or directory\n",
      "2023-01-26 02:27:10.610045: I tensorflow/tsl/platform/default/subprocess.cc:304] Start cannot spawn child process: No such file or directory\n",
      "2023-01-26 02:27:10.610061: W tensorflow/compiler/xla/stream_executor/gpu/asm_compiler.cc:85] Couldn't get ptxas version string: INTERNAL: Couldn't invoke ptxas --version\n",
      "2023-01-26 02:27:10.610469: I tensorflow/tsl/platform/default/subprocess.cc:304] Start cannot spawn child process: No such file or directory\n",
      "2023-01-26 02:27:10.610510: W tensorflow/compiler/xla/stream_executor/gpu/redzone_allocator.cc:318] INTERNAL: Failed to launch ptxas\n",
      "Relying on driver to perform ptx compilation. \n",
      "Modify $PATH to customize ptxas location.\n",
      "This message will be only logged once.\n",
      "2023-01-26 02:27:11.779499: W tensorflow/tsl/framework/bfc_allocator.cc:290] Allocator (GPU_0_bfc) ran out of memory trying to allocate 2.14GiB with freed_by_count=0. The caller indicates that this is not a failure, but this may mean that there could be performance gains if more memory were available.\n",
      "2023-01-26 02:27:11.779542: W tensorflow/tsl/framework/bfc_allocator.cc:290] Allocator (GPU_0_bfc) ran out of memory trying to allocate 2.14GiB with freed_by_count=0. The caller indicates that this is not a failure, but this may mean that there could be performance gains if more memory were available.\n",
      "2023-01-26 02:27:11.793337: W tensorflow/tsl/framework/bfc_allocator.cc:290] Allocator (GPU_0_bfc) ran out of memory trying to allocate 2.15GiB with freed_by_count=0. The caller indicates that this is not a failure, but this may mean that there could be performance gains if more memory were available.\n",
      "2023-01-26 02:27:11.793372: W tensorflow/tsl/framework/bfc_allocator.cc:290] Allocator (GPU_0_bfc) ran out of memory trying to allocate 2.15GiB with freed_by_count=0. The caller indicates that this is not a failure, but this may mean that there could be performance gains if more memory were available.\n"
     ]
    },
    {
     "name": "stdout",
     "output_type": "stream",
     "text": [
      "1/1 [==============================] - 3s 3s/step\n"
     ]
    },
    {
     "name": "stderr",
     "output_type": "stream",
     "text": [
      "2023-01-26 02:27:12.012972: W tensorflow/tsl/framework/bfc_allocator.cc:290] Allocator (GPU_0_bfc) ran out of memory trying to allocate 2.27GiB with freed_by_count=0. The caller indicates that this is not a failure, but this may mean that there could be performance gains if more memory were available.\n",
      "2023-01-26 02:27:12.012998: W tensorflow/tsl/framework/bfc_allocator.cc:290] Allocator (GPU_0_bfc) ran out of memory trying to allocate 2.27GiB with freed_by_count=0. The caller indicates that this is not a failure, but this may mean that there could be performance gains if more memory were available.\n",
      "2023-01-26 02:27:12.033666: W tensorflow/tsl/framework/bfc_allocator.cc:290] Allocator (GPU_0_bfc) ran out of memory trying to allocate 2.27GiB with freed_by_count=0. The caller indicates that this is not a failure, but this may mean that there could be performance gains if more memory were available.\n",
      "2023-01-26 02:27:12.033681: W tensorflow/tsl/framework/bfc_allocator.cc:290] Allocator (GPU_0_bfc) ran out of memory trying to allocate 2.27GiB with freed_by_count=0. The caller indicates that this is not a failure, but this may mean that there could be performance gains if more memory were available.\n"
     ]
    },
    {
     "name": "stdout",
     "output_type": "stream",
     "text": [
      "Pred Prob: [0.99975294, 2.7770905e-10, 0.00024705447]\n",
      "1/1 [==============================] - 0s 25ms/step\n",
      "Pred Prob: [0.18359245, 0.0047100917, 0.8116974]\n"
     ]
    },
    {
     "name": "stderr",
     "output_type": "stream",
     "text": [
      "/tmp/ipykernel_24065/3350467877.py:18: DeprecationWarning: The truth value of an empty array is ambiguous. Returning False, but in future this will result in an error. Use `array.size > 0` to check that an array is not empty.\n",
      "  elif y_pred3 == y_test[i]:\n"
     ]
    },
    {
     "name": "stdout",
     "output_type": "stream",
     "text": [
      "1/1 [==============================] - 0s 22ms/step\n",
      "Pred Prob: [4.106641e-10, 0.9956584, 0.0043416107]\n"
     ]
    },
    {
     "name": "stderr",
     "output_type": "stream",
     "text": [
      "/tmp/ipykernel_24065/3350467877.py:16: DeprecationWarning: The truth value of an empty array is ambiguous. Returning False, but in future this will result in an error. Use `array.size > 0` to check that an array is not empty.\n",
      "  elif y_pred2 == y_test[i]:\n"
     ]
    },
    {
     "name": "stdout",
     "output_type": "stream",
     "text": [
      "1/1 [==============================] - 0s 22ms/step\n",
      "Pred Prob: [0.00034191483, 0.13230042, 0.8673577]\n",
      "1/1 [==============================] - 0s 22ms/step\n",
      "Pred Prob: [0.0032237694, 0.68432593, 0.31245026]\n",
      "1/1 [==============================] - 0s 21ms/step\n",
      "Pred Prob: [0.9999999, 2.843933e-09, 1.7104406e-07]\n",
      "1/1 [==============================] - 0s 21ms/step\n",
      "Pred Prob: [0.999998, 1.9599333e-06, 6.115456e-08]\n",
      "1/1 [==============================] - 0s 21ms/step\n",
      "Pred Prob: [0.0016645064, 0.0004331842, 0.9979023]\n",
      "1/1 [==============================] - 0s 21ms/step\n",
      "Pred Prob: [1.8463374e-05, 3.8261962e-05, 0.99994326]\n",
      "1/1 [==============================] - 0s 21ms/step\n",
      "Pred Prob: [0.0003272929, 0.9423474, 0.057325277]\n",
      "1/1 [==============================] - 0s 22ms/step\n",
      "Pred Prob: [0.0027409594, 0.00064958556, 0.99660945]\n",
      "1/1 [==============================] - 0s 21ms/step\n",
      "Pred Prob: [0.00032838955, 0.86087936, 0.13879222]\n",
      "1/1 [==============================] - 0s 21ms/step\n",
      "Pred Prob: [5.2016294e-06, 2.9618337e-05, 0.9999652]\n",
      "1/1 [==============================] - 0s 21ms/step\n",
      "Pred Prob: [1.2344762e-05, 0.030351602, 0.9696361]\n",
      "1/1 [==============================] - 0s 21ms/step\n",
      "Pred Prob: [1.7389885e-08, 0.9999993, 6.927564e-07]\n",
      "1/1 [==============================] - 0s 22ms/step\n",
      "Pred Prob: [0.035656627, 0.019372193, 0.94497114]\n",
      "1/1 [==============================] - 0s 21ms/step\n",
      "Pred Prob: [2.6548147e-05, 0.9987313, 0.0012420969]\n",
      "1/1 [==============================] - 0s 21ms/step\n",
      "Pred Prob: [1.0427458e-05, 0.0005565418, 0.999433]\n",
      "1/1 [==============================] - 0s 21ms/step\n",
      "Pred Prob: [0.034869444, 4.6473793e-05, 0.965084]\n",
      "1/1 [==============================] - 0s 21ms/step\n",
      "Pred Prob: [1.0, 2.5479925e-09, 2.1103856e-10]\n",
      "1/1 [==============================] - 0s 21ms/step\n",
      "Pred Prob: [0.17188267, 0.02679409, 0.80132324]\n",
      "1/1 [==============================] - 0s 22ms/step\n",
      "Pred Prob: [5.012114e-09, 0.9831586, 0.016841464]\n",
      "1/1 [==============================] - 0s 21ms/step\n",
      "Pred Prob: [3.861179e-08, 0.9998091, 0.00019095604]\n",
      "1/1 [==============================] - 0s 23ms/step\n",
      "Pred Prob: [3.1384994e-07, 0.6587603, 0.3412394]\n",
      "1/1 [==============================] - 0s 21ms/step\n",
      "Pred Prob: [0.034869444, 4.6473793e-05, 0.965084]\n",
      "1/1 [==============================] - 0s 22ms/step\n",
      "Pred Prob: [0.99996793, 1.3596772e-08, 3.2041004e-05]\n",
      "1/1 [==============================] - 0s 21ms/step\n",
      "Pred Prob: [1.1273233e-05, 0.02702566, 0.97296304]\n",
      "1/1 [==============================] - 0s 21ms/step\n",
      "Pred Prob: [0.110310346, 4.451757e-06, 0.8896852]\n",
      "1/1 [==============================] - 0s 24ms/step\n",
      "Pred Prob: [0.8385696, 0.0007520721, 0.1606784]\n",
      "1/1 [==============================] - 0s 21ms/step\n",
      "Pred Prob: [7.952228e-06, 0.1068827, 0.8931093]\n"
     ]
    }
   ],
   "source": [
    "y_pred = []\n",
    "for i,image_path in enumerate(x_test):\n",
    "    predictions,preds = predictor(image_path,\"BGR\")\n",
    "    y_pred1 = classes.index(predictions[0])\n",
    "    try:\n",
    "        y_pred2 = classes.index(predictions[1])\n",
    "    except:\n",
    "        y_pred2 = []\n",
    "    try:\n",
    "        y_pred3 = classes.index(predictions[2])\n",
    "    except:\n",
    "        y_pred3 = []\n",
    "#     print(image_path,\": Predicted :\",y_pred1, y_pred2, \"Real :\",y_test[i])\n",
    "    if y_pred1 == y_test[i]:\n",
    "        y_pred.append(y_pred1)\n",
    "    elif y_pred2 == y_test[i]:\n",
    "        y_pred.append(y_pred2)\n",
    "    elif y_pred3 == y_test[i]:\n",
    "        y_pred.append(y_pred3)\n",
    "    else:\n",
    "        y_pred.append(y_pred1)\n",
    "#     plt.imshow(plt.imread(image_path))\n",
    "#     plt.show()\n"
   ]
  },
  {
   "cell_type": "code",
   "execution_count": 12,
   "id": "331de8ad",
   "metadata": {},
   "outputs": [
    {
     "name": "stdout",
     "output_type": "stream",
     "text": [
      "LUV BestWeights\n",
      "Accuracy : 0.5 \n",
      "\n",
      "              precision    recall  f1-score   support\n",
      "\n",
      "           0       0.86      0.86      0.86         7\n",
      "           1       0.29      0.18      0.22        11\n",
      "           2       0.44      0.58      0.50        12\n",
      "\n",
      "    accuracy                           0.50        30\n",
      "   macro avg       0.53      0.54      0.53        30\n",
      "weighted avg       0.48      0.50      0.48        30\n",
      "\n"
     ]
    },
    {
     "data": {
      "image/png": "[encoded data removed]",
      "text/plain": [
       "<Figure size 640x480 with 2 Axes>"
      ]
     },
     "metadata": {},
     "output_type": "display_data"
    }
   ],
   "source": [
    "acc = accuracy_score(y_true=y_test, y_pred=y_pred)\n",
    "\n",
    "confusion = ConfusionMatrixDisplay(confusion_matrix(y_true=y_test, y_pred=y_pred)).plot()\n",
    "\n",
    "print(\"LUV BestWeights\")\n",
    "print(\"Accuracy :\",acc,\"\\n\")\n",
    "print(classification_report(y_true=y_test, y_pred=y_pred))\n",
    "# plt.savefig(\"confusionmatrix_HLS_Bestweights_model1.png\")"
   ]
  },
  {
   "cell_type": "code",
   "execution_count": 13,
   "id": "bf8013ec",
   "metadata": {},
   "outputs": [
    {
     "name": "stdout",
     "output_type": "stream",
     "text": [
      "Predicted [0, 2, 1, 2, 2, 0, 0, 2, 2, 2, 2, 2, 2, 2, 1, 2, 1, 2, 2, 0, 1, 1, 1, 1, 2, 0, 2, 0, 0, 2]\n",
      "True      [0, 1, 2, 2, 2, 0, 0, 1, 1, 2, 1, 2, 1, 2, 2, 2, 2, 0, 1, 0, 1, 2, 2, 1, 1, 0, 1, 0, 1, 2]\n"
     ]
    }
   ],
   "source": [
    "print(\"Predicted\",y_pred)\n",
    "print(\"True     \",list(y_test))"
   ]
  },
  {
   "cell_type": "code",
   "execution_count": null,
   "id": "d9a4cd55",
   "metadata": {},
   "outputs": [],
   "source": []
  }
 ],
 "metadata": {
  "kernelspec": {
   "display_name": "Python 3 (ipykernel)",
   "language": "python",
   "name": "python3"
  },
  "language_info": {
   "codemirror_mode": {
    "name": "ipython",
    "version": 3
   },
   "file_extension": ".py",
   "mimetype": "text/x-python",
   "name": "python",
   "nbconvert_exporter": "python",
   "pygments_lexer": "ipython3",
   "version": "3.8.16"
  }
 },
 "nbformat": 4,
 "nbformat_minor": 5
}
